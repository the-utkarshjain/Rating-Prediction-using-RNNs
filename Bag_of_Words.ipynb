{
  "nbformat": 4,
  "nbformat_minor": 0,
  "metadata": {
    "colab": {
      "provenance": []
    },
    "kernelspec": {
      "name": "python3",
      "display_name": "Python 3"
    },
    "language_info": {
      "name": "python"
    }
  },
  "cells": [
    {
      "cell_type": "code",
      "execution_count": null,
      "metadata": {
        "colab": {
          "base_uri": "https://localhost:8080/"
        },
        "id": "7JRW4eUt79Gt",
        "outputId": "42ac67a4-c4eb-405b-9abe-89528c0fd9e0"
      },
      "outputs": [
        {
          "output_type": "stream",
          "name": "stderr",
          "text": [
            "[nltk_data] Downloading package stopwords to /root/nltk_data...\n",
            "[nltk_data]   Unzipping corpora/stopwords.zip.\n"
          ]
        },
        {
          "output_type": "execute_result",
          "data": {
            "text/plain": [
              "True"
            ]
          },
          "metadata": {},
          "execution_count": 20
        }
      ],
      "source": [
        "import gzip\n",
        "import math\n",
        "import numpy\n",
        "import sklearn\n",
        "import string\n",
        "import pandas as pd\n",
        "from collections import defaultdict\n",
        "from sklearn import linear_model\n",
        "import nltk\n",
        "from nltk.corpus import stopwords\n",
        "nltk.download('stopwords')"
      ]
    },
    {
      "cell_type": "code",
      "source": [
        "train_path = \"/content/drive/Shareddrives/CSE258/clean_data/train.csv\"\n",
        "valid_path = \"/content/drive/Shareddrives/CSE258/clean_data/valid.csv\"\n",
        "test_path = \"/content/drive/Shareddrives/CSE258/clean_data/test.csv\""
      ],
      "metadata": {
        "id": "umjLUNKA8JML"
      },
      "execution_count": null,
      "outputs": []
    },
    {
      "cell_type": "code",
      "source": [
        "train_df = pd.read_csv(train_path)"
      ],
      "metadata": {
        "id": "OG2VOgGe8goV"
      },
      "execution_count": null,
      "outputs": []
    },
    {
      "cell_type": "code",
      "source": [
        "wordCount = defaultdict(int)\n",
        "punctuation = set(string.punctuation)\n",
        "stopwords = set(stopwords.words(\"english\"))\n",
        "\n",
        "for index, data in train_df.iterrows():\n",
        "  d = str(data['review'])\n",
        "  r = ''.join([c for c in d.lower() if not c in punctuation])\n",
        "  for w in r.split():\n",
        "    if w not in stopwords:\n",
        "      wordCount[w] += 1\n",
        "\n",
        "counts = [(wordCount[w], w) for w in wordCount]\n",
        "counts.sort()\n",
        "counts.reverse()"
      ],
      "metadata": {
        "id": "f7vfn8kk8RzF"
      },
      "execution_count": null,
      "outputs": []
    },
    {
      "cell_type": "code",
      "source": [
        "words = [x[1] for x in counts[:1000]]"
      ],
      "metadata": {
        "id": "H-CqGBad9NNN"
      },
      "execution_count": null,
      "outputs": []
    },
    {
      "cell_type": "code",
      "source": [
        "wordId = dict(zip(words, range(len(words))))\n",
        "wordSet = set(words)"
      ],
      "metadata": {
        "id": "0JnUB6wG_yDw"
      },
      "execution_count": null,
      "outputs": []
    },
    {
      "cell_type": "code",
      "source": [
        "def feature(datum):\n",
        "  feat = [0]*(len(words)+1)\n",
        "  r = ''.join([c for c in datum.lower() if not c in punctuation])\n",
        "  for w in r.split():\n",
        "      if w in words:\n",
        "        if w not in stopwords:\n",
        "          feat[wordId[w]] += 1\n",
        "\n",
        "  feat[-1] = len(r.split())\n",
        "\n",
        "  return feat"
      ],
      "metadata": {
        "id": "mYV6N2sp_0mb"
      },
      "execution_count": null,
      "outputs": []
    },
    {
      "cell_type": "code",
      "source": [
        "X = []\n",
        "Y = []\n",
        "\n",
        "for index, data in train_df.iterrows():\n",
        "  review = str(data['review'])\n",
        "  rating = data['rating']\n",
        "\n",
        "  X.append(feature(review))\n",
        "  Y.append(rating)"
      ],
      "metadata": {
        "id": "3tNZ44ZMAAN3"
      },
      "execution_count": null,
      "outputs": []
    },
    {
      "cell_type": "code",
      "source": [
        "valid_X = []\n",
        "valid_Y = []\n",
        "\n",
        "valid_df = pd.read_csv(valid_path)\n",
        "\n",
        "for index, data in valid_df.iterrows():\n",
        "  review = str(data['review'])\n",
        "  rating = data['rating']\n",
        "\n",
        "  valid_X.append(feature(review))\n",
        "  valid_Y.append(rating)"
      ],
      "metadata": {
        "id": "c3KjDj6BBnSq"
      },
      "execution_count": null,
      "outputs": []
    },
    {
      "cell_type": "code",
      "source": [
        "test_X = []\n",
        "test_Y = []\n",
        "\n",
        "test_df = pd.read_csv(test_path)\n",
        "\n",
        "for index, data in test_df.iterrows():\n",
        "  review = str(data['review'])\n",
        "  rating = data['rating']\n",
        "\n",
        "  test_X.append(feature(review))\n",
        "  test_Y.append(rating)"
      ],
      "metadata": {
        "id": "R_bbs39EDZKK"
      },
      "execution_count": null,
      "outputs": []
    },
    {
      "cell_type": "code",
      "source": [
        "def MSE(predictions, labels):\n",
        "  differences = [(x-y)**2 for x,y in zip(predictions,labels)]\n",
        "  return sum(differences) / len(differences)"
      ],
      "metadata": {
        "id": "dMus_uFfDMQ9"
      },
      "execution_count": null,
      "outputs": []
    },
    {
      "cell_type": "code",
      "source": [
        "for alpha in [5, 4.5, 4, 3.5, 3, 2.5, 2, 1.5, 1, 0.1, 0.01]:\n",
        "  clf = linear_model.Ridge(alpha = alpha, fit_intercept=True)\n",
        "  clf.fit(X, Y)\n",
        "\n",
        "  Y_pred = clf.predict(X)\n",
        "  train_MSE = MSE(Y_pred, Y)\n",
        "\n",
        "  valid_Y_pred = clf.predict(valid_X)\n",
        "  valid_MSE = MSE(valid_Y_pred, valid_Y)\n",
        "\n",
        "  test_Y_pred = clf.predict(test_X)\n",
        "  test_MSE = MSE(test_Y_pred, test_Y)\n",
        "\n",
        "  print(\"=========================\")\n",
        "  print(\"Train MSE: \", train_MSE)\n",
        "  print(\"Valid MSE: \", valid_MSE)\n",
        "  print(\"Test MSE: \", test_MSE)"
      ],
      "metadata": {
        "colab": {
          "base_uri": "https://localhost:8080/"
        },
        "id": "TgOCo4zIAF8N",
        "outputId": "85439436-7afc-4189-cc5d-e42100a33dbf"
      },
      "execution_count": null,
      "outputs": [
        {
          "output_type": "stream",
          "name": "stdout",
          "text": [
            "=========================\n",
            "Train MSE:  1.5820089697422464\n",
            "Valid MSE:  1.5816573078626341\n",
            "Test MSE:  1.6020241280475243\n",
            "=========================\n",
            "Train MSE:  1.5820089302658586\n",
            "Valid MSE:  1.5816589097239118\n",
            "Test MSE:  1.6020265749951508\n",
            "=========================\n",
            "Train MSE:  1.5820088949290916\n",
            "Valid MSE:  1.5816605161679012\n",
            "Test MSE:  1.602029026662673\n",
            "=========================\n",
            "Train MSE:  1.582008863735834\n",
            "Valid MSE:  1.5816621271985822\n",
            "Test MSE:  1.6020314830541043\n",
            "=========================\n",
            "Train MSE:  1.5820088366897613\n",
            "Valid MSE:  1.581663742819921\n",
            "Test MSE:  1.6020339441734073\n",
            "=========================\n",
            "Train MSE:  1.5820088137944106\n",
            "Valid MSE:  1.5816653630358926\n",
            "Test MSE:  1.60203641002453\n",
            "=========================\n",
            "Train MSE:  1.582008795053514\n",
            "Valid MSE:  1.5816669878505027\n",
            "Test MSE:  1.6020388806114645\n",
            "=========================\n",
            "Train MSE:  1.5820087804708174\n",
            "Valid MSE:  1.5816686172677057\n",
            "Test MSE:  1.6020413559381972\n",
            "=========================\n",
            "Train MSE:  1.5820087700500138\n",
            "Valid MSE:  1.581670251291531\n",
            "Test MSE:  1.6020438360086944\n",
            "=========================\n",
            "Train MSE:  1.5820087617925134\n",
            "Valid MSE:  1.5816732041557826\n",
            "Test MSE:  1.6020483121026436\n",
            "=========================\n",
            "Train MSE:  1.58200876170979\n",
            "Valid MSE:  1.5816735002647295\n",
            "Test MSE:  1.6020487605590055\n"
          ]
        }
      ]
    },
    {
      "cell_type": "code",
      "source": [
        "coef = clf.coef_\n",
        "wordsCoef = [(c, w) for c, w in zip(coef[:-1], words)]\n",
        "wordsCoef.sort()\n",
        "wordsCoef.reverse()"
      ],
      "metadata": {
        "id": "GP2VkVhgDT84"
      },
      "execution_count": null,
      "outputs": []
    },
    {
      "cell_type": "code",
      "source": [
        "wordsCoef[:10]"
      ],
      "metadata": {
        "colab": {
          "base_uri": "https://localhost:8080/"
        },
        "id": "ptkwEdVMKwud",
        "outputId": "5c43b53d-7658-44ce-fa1b-84923f32903e"
      },
      "execution_count": null,
      "outputs": [
        {
          "output_type": "execute_result",
          "data": {
            "text/plain": [
              "[(0.3800203674465144, 'nan'),\n",
              " (0.31394229536930823, 'glad'),\n",
              " (0.2787621780643798, 'amazing'),\n",
              " (0.2675841286770794, 'highly'),\n",
              " (0.26026877726257786, 'satisfied'),\n",
              " (0.25725503873408784, 'fantastic'),\n",
              " (0.24261042665048332, 'love'),\n",
              " (0.2244220575581366, 'best'),\n",
              " (0.22313142444752718, 'loves'),\n",
              " (0.22068679345473605, 'awesome')]"
            ]
          },
          "metadata": {},
          "execution_count": 87
        }
      ]
    },
    {
      "cell_type": "code",
      "source": [
        "wordsCoef[-10:]"
      ],
      "metadata": {
        "colab": {
          "base_uri": "https://localhost:8080/"
        },
        "id": "H7BJGpliLjOE",
        "outputId": "3bdc36de-28e9-4f03-940c-7ff26cff8106"
      },
      "execution_count": null,
      "outputs": [
        {
          "output_type": "execute_result",
          "data": {
            "text/plain": [
              "[(-0.2777942097321673, 'worked'),\n",
              " (-0.28890371151045396, 'return'),\n",
              " (-0.2936391652289254, 'piece'),\n",
              " (-0.3093405590364681, 'stay'),\n",
              " (-0.32194412339713796, 'returned'),\n",
              " (-0.32368781778625144, 'worse'),\n",
              " (-0.3703865328949903, 'disappointed'),\n",
              " (-0.3781283234670061, 'poor'),\n",
              " (-0.4344605377841999, 'horrible'),\n",
              " (-0.790016162569127, 'worst')]"
            ]
          },
          "metadata": {},
          "execution_count": 88
        }
      ]
    },
    {
      "cell_type": "code",
      "source": [
        "with open(\"file.txt\", 'w') as output:\n",
        "    for row in wordsCoef:\n",
        "        c = row[0]\n",
        "        w = row[1]\n",
        "        output.write(str(c) + '\\t' + w + '\\n')"
      ],
      "metadata": {
        "id": "4WIILFzGO_48"
      },
      "execution_count": null,
      "outputs": []
    },
    {
      "cell_type": "code",
      "source": [
        "str(wordsCoef[0])"
      ],
      "metadata": {
        "colab": {
          "base_uri": "https://localhost:8080/",
          "height": 37
        },
        "id": "W1jLXbEUPdHF",
        "outputId": "b2ca8ae4-354c-4cd4-8cb0-45ba49e474f5"
      },
      "execution_count": null,
      "outputs": [
        {
          "output_type": "execute_result",
          "data": {
            "text/plain": [
              "\"(0.3800203674465144, 'nan')\""
            ],
            "application/vnd.google.colaboratory.intrinsic+json": {
              "type": "string"
            }
          },
          "metadata": {},
          "execution_count": 82
        }
      ]
    },
    {
      "cell_type": "code",
      "source": [
        "coef[-1]"
      ],
      "metadata": {
        "colab": {
          "base_uri": "https://localhost:8080/"
        },
        "id": "rMSl_s4zPeko",
        "outputId": "8293f37c-cb82-486b-b324-ab49a95a3e85"
      },
      "execution_count": null,
      "outputs": [
        {
          "output_type": "execute_result",
          "data": {
            "text/plain": [
              "0.0015649162936596896"
            ]
          },
          "metadata": {},
          "execution_count": 89
        }
      ]
    },
    {
      "cell_type": "code",
      "source": [],
      "metadata": {
        "id": "eoVffHM2R7LW"
      },
      "execution_count": null,
      "outputs": []
    }
  ]
}