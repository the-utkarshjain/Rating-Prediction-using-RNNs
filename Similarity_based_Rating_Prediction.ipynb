{
  "nbformat": 4,
  "nbformat_minor": 0,
  "metadata": {
    "colab": {
      "provenance": []
    },
    "kernelspec": {
      "name": "python3",
      "display_name": "Python 3"
    },
    "language_info": {
      "name": "python"
    }
  },
  "cells": [
    {
      "cell_type": "code",
      "source": [
        "from google.colab import drive\n",
        "drive.mount('/content/drive')"
      ],
      "metadata": {
        "colab": {
          "base_uri": "https://localhost:8080/"
        },
        "id": "fVasTECjHRxn",
        "outputId": "1f9820bf-99d9-439b-a93f-37d128a891fe"
      },
      "execution_count": 37,
      "outputs": [
        {
          "output_type": "stream",
          "name": "stdout",
          "text": [
            "Drive already mounted at /content/drive; to attempt to forcibly remount, call drive.mount(\"/content/drive\", force_remount=True).\n"
          ]
        }
      ]
    },
    {
      "cell_type": "code",
      "execution_count": 38,
      "metadata": {
        "id": "OsRLAB-DmOWt"
      },
      "outputs": [],
      "source": [
        "from collections import defaultdict\n",
        "import pandas as pd\n",
        "import math"
      ]
    },
    {
      "cell_type": "code",
      "source": [
        "train_dataset = pd.read_csv('/content/drive/Shareddrives/CSE258/clean_data/train.csv')\n",
        "validation_dataset = pd.read_csv('/content/drive/Shareddrives/CSE258/clean_data/valid.csv')\n",
        "test_dataset = pd.read_csv('/content/drive/Shareddrives/CSE258/clean_data/test.csv')\n",
        "\n",
        "dataset = pd.concat([train_dataset, validation_dataset]) # merges train and validation dataset into one beacause we don't need a validation set for similarity-based rating prediction\n",
        "dataset.shape"
      ],
      "metadata": {
        "colab": {
          "base_uri": "https://localhost:8080/"
        },
        "id": "S_gOayKxnWju",
        "outputId": "9651ec18-f3eb-4dd7-9a1d-764d7f4c49f7"
      },
      "execution_count": 39,
      "outputs": [
        {
          "output_type": "execute_result",
          "data": {
            "text/plain": [
              "(175869, 6)"
            ]
          },
          "metadata": {},
          "execution_count": 39
        }
      ]
    },
    {
      "cell_type": "code",
      "source": [
        "train_dataset.head()"
      ],
      "metadata": {
        "colab": {
          "base_uri": "https://localhost:8080/",
          "height": 204
        },
        "id": "qbu6TmahfYKv",
        "outputId": "2c020179-600f-44cb-c436-dfdb52c36f78"
      },
      "execution_count": 45,
      "outputs": [
        {
          "output_type": "execute_result",
          "data": {
            "text/plain": [
              "                                                item        user   paid  \\\n",
              "0  Fisher_Price_Loving_Family_Sweet_Sounds_Dollhouse    karleigh  79.99   \n",
              "1                               Nokia_E62_Smartphone     mfw1982  199.0   \n",
              "2                         pr-Dell_DJ_15GB_MP3_Player  davydanger  199.0   \n",
              "3                        Blue_s_Clues_Bath_Time_Blue        kbmg   gift   \n",
              "4                                  Spider_Man_Gloves  pluckyduck   9.99   \n",
              "\n",
              "         time  rating                                             review  \n",
              "0  1071878400     4.0  i researched and looked at all the fisher pric...  \n",
              "1  1196294400     5.0  no it doesnt have a camera and yes the keys ar...  \n",
              "2  1081987200     1.0  i was very excited to buy this product given a...  \n",
              "3   990489600     2.0  my two kids ages 2 and 4 are big blues clues f...  \n",
              "4  1031443200     3.0  dad was walking through toys r us the other we...  "
            ],
            "text/html": [
              "\n",
              "  <div id=\"df-64d43758-1e62-43d2-88b2-1c86dee2ae08\">\n",
              "    <div class=\"colab-df-container\">\n",
              "      <div>\n",
              "<style scoped>\n",
              "    .dataframe tbody tr th:only-of-type {\n",
              "        vertical-align: middle;\n",
              "    }\n",
              "\n",
              "    .dataframe tbody tr th {\n",
              "        vertical-align: top;\n",
              "    }\n",
              "\n",
              "    .dataframe thead th {\n",
              "        text-align: right;\n",
              "    }\n",
              "</style>\n",
              "<table border=\"1\" class=\"dataframe\">\n",
              "  <thead>\n",
              "    <tr style=\"text-align: right;\">\n",
              "      <th></th>\n",
              "      <th>item</th>\n",
              "      <th>user</th>\n",
              "      <th>paid</th>\n",
              "      <th>time</th>\n",
              "      <th>rating</th>\n",
              "      <th>review</th>\n",
              "    </tr>\n",
              "  </thead>\n",
              "  <tbody>\n",
              "    <tr>\n",
              "      <th>0</th>\n",
              "      <td>Fisher_Price_Loving_Family_Sweet_Sounds_Dollhouse</td>\n",
              "      <td>karleigh</td>\n",
              "      <td>79.99</td>\n",
              "      <td>1071878400</td>\n",
              "      <td>4.0</td>\n",
              "      <td>i researched and looked at all the fisher pric...</td>\n",
              "    </tr>\n",
              "    <tr>\n",
              "      <th>1</th>\n",
              "      <td>Nokia_E62_Smartphone</td>\n",
              "      <td>mfw1982</td>\n",
              "      <td>199.0</td>\n",
              "      <td>1196294400</td>\n",
              "      <td>5.0</td>\n",
              "      <td>no it doesnt have a camera and yes the keys ar...</td>\n",
              "    </tr>\n",
              "    <tr>\n",
              "      <th>2</th>\n",
              "      <td>pr-Dell_DJ_15GB_MP3_Player</td>\n",
              "      <td>davydanger</td>\n",
              "      <td>199.0</td>\n",
              "      <td>1081987200</td>\n",
              "      <td>1.0</td>\n",
              "      <td>i was very excited to buy this product given a...</td>\n",
              "    </tr>\n",
              "    <tr>\n",
              "      <th>3</th>\n",
              "      <td>Blue_s_Clues_Bath_Time_Blue</td>\n",
              "      <td>kbmg</td>\n",
              "      <td>gift</td>\n",
              "      <td>990489600</td>\n",
              "      <td>2.0</td>\n",
              "      <td>my two kids ages 2 and 4 are big blues clues f...</td>\n",
              "    </tr>\n",
              "    <tr>\n",
              "      <th>4</th>\n",
              "      <td>Spider_Man_Gloves</td>\n",
              "      <td>pluckyduck</td>\n",
              "      <td>9.99</td>\n",
              "      <td>1031443200</td>\n",
              "      <td>3.0</td>\n",
              "      <td>dad was walking through toys r us the other we...</td>\n",
              "    </tr>\n",
              "  </tbody>\n",
              "</table>\n",
              "</div>\n",
              "      <button class=\"colab-df-convert\" onclick=\"convertToInteractive('df-64d43758-1e62-43d2-88b2-1c86dee2ae08')\"\n",
              "              title=\"Convert this dataframe to an interactive table.\"\n",
              "              style=\"display:none;\">\n",
              "        \n",
              "  <svg xmlns=\"http://www.w3.org/2000/svg\" height=\"24px\"viewBox=\"0 0 24 24\"\n",
              "       width=\"24px\">\n",
              "    <path d=\"M0 0h24v24H0V0z\" fill=\"none\"/>\n",
              "    <path d=\"M18.56 5.44l.94 2.06.94-2.06 2.06-.94-2.06-.94-.94-2.06-.94 2.06-2.06.94zm-11 1L8.5 8.5l.94-2.06 2.06-.94-2.06-.94L8.5 2.5l-.94 2.06-2.06.94zm10 10l.94 2.06.94-2.06 2.06-.94-2.06-.94-.94-2.06-.94 2.06-2.06.94z\"/><path d=\"M17.41 7.96l-1.37-1.37c-.4-.4-.92-.59-1.43-.59-.52 0-1.04.2-1.43.59L10.3 9.45l-7.72 7.72c-.78.78-.78 2.05 0 2.83L4 21.41c.39.39.9.59 1.41.59.51 0 1.02-.2 1.41-.59l7.78-7.78 2.81-2.81c.8-.78.8-2.07 0-2.86zM5.41 20L4 18.59l7.72-7.72 1.47 1.35L5.41 20z\"/>\n",
              "  </svg>\n",
              "      </button>\n",
              "      \n",
              "  <style>\n",
              "    .colab-df-container {\n",
              "      display:flex;\n",
              "      flex-wrap:wrap;\n",
              "      gap: 12px;\n",
              "    }\n",
              "\n",
              "    .colab-df-convert {\n",
              "      background-color: #E8F0FE;\n",
              "      border: none;\n",
              "      border-radius: 50%;\n",
              "      cursor: pointer;\n",
              "      display: none;\n",
              "      fill: #1967D2;\n",
              "      height: 32px;\n",
              "      padding: 0 0 0 0;\n",
              "      width: 32px;\n",
              "    }\n",
              "\n",
              "    .colab-df-convert:hover {\n",
              "      background-color: #E2EBFA;\n",
              "      box-shadow: 0px 1px 2px rgba(60, 64, 67, 0.3), 0px 1px 3px 1px rgba(60, 64, 67, 0.15);\n",
              "      fill: #174EA6;\n",
              "    }\n",
              "\n",
              "    [theme=dark] .colab-df-convert {\n",
              "      background-color: #3B4455;\n",
              "      fill: #D2E3FC;\n",
              "    }\n",
              "\n",
              "    [theme=dark] .colab-df-convert:hover {\n",
              "      background-color: #434B5C;\n",
              "      box-shadow: 0px 1px 3px 1px rgba(0, 0, 0, 0.15);\n",
              "      filter: drop-shadow(0px 1px 2px rgba(0, 0, 0, 0.3));\n",
              "      fill: #FFFFFF;\n",
              "    }\n",
              "  </style>\n",
              "\n",
              "      <script>\n",
              "        const buttonEl =\n",
              "          document.querySelector('#df-64d43758-1e62-43d2-88b2-1c86dee2ae08 button.colab-df-convert');\n",
              "        buttonEl.style.display =\n",
              "          google.colab.kernel.accessAllowed ? 'block' : 'none';\n",
              "\n",
              "        async function convertToInteractive(key) {\n",
              "          const element = document.querySelector('#df-64d43758-1e62-43d2-88b2-1c86dee2ae08');\n",
              "          const dataTable =\n",
              "            await google.colab.kernel.invokeFunction('convertToInteractive',\n",
              "                                                     [key], {});\n",
              "          if (!dataTable) return;\n",
              "\n",
              "          const docLinkHtml = 'Like what you see? Visit the ' +\n",
              "            '<a target=\"_blank\" href=https://colab.research.google.com/notebooks/data_table.ipynb>data table notebook</a>'\n",
              "            + ' to learn more about interactive tables.';\n",
              "          element.innerHTML = '';\n",
              "          dataTable['output_type'] = 'display_data';\n",
              "          await google.colab.output.renderOutput(dataTable, element);\n",
              "          const docLink = document.createElement('div');\n",
              "          docLink.innerHTML = docLinkHtml;\n",
              "          element.appendChild(docLink);\n",
              "        }\n",
              "      </script>\n",
              "    </div>\n",
              "  </div>\n",
              "  "
            ]
          },
          "metadata": {},
          "execution_count": 45
        }
      ]
    },
    {
      "cell_type": "code",
      "source": [
        "dataset.columns"
      ],
      "metadata": {
        "colab": {
          "base_uri": "https://localhost:8080/"
        },
        "id": "CBqOGiC4L77X",
        "outputId": "c57ea346-a0f5-4bc7-a449-ca9dd7e572bd"
      },
      "execution_count": 15,
      "outputs": [
        {
          "output_type": "execute_result",
          "data": {
            "text/plain": [
              "Index(['item', 'user', 'paid', 'time', 'rating', 'review'], dtype='object')"
            ]
          },
          "metadata": {},
          "execution_count": 15
        }
      ]
    },
    {
      "cell_type": "code",
      "source": [
        "usersPerItem = defaultdict(set)\n",
        "itemsPerUser = defaultdict(set)\n",
        "reviewsPerUser = defaultdict(list)\n",
        "reviewsPerItem = defaultdict(list)\n",
        "ratingDict = {}"
      ],
      "metadata": {
        "id": "3svWmFuNobXm"
      },
      "execution_count": 26,
      "outputs": []
    },
    {
      "cell_type": "code",
      "source": [
        "for index, row in dataset.iterrows():\n",
        "  item = row['item']\n",
        "  user = row['user']\n",
        "  rating = row['rating']\n",
        "\n",
        "  usersPerItem[item].add(user)\n",
        "  itemsPerUser[user].add(item)\n",
        "\n",
        "  ratingDict[(item, user)] = rating\n",
        "\n",
        "  reviewsPerUser[user].append({'item': item, 'rating': rating})\n",
        "  reviewsPerItem[item].append({'user': user, 'rating': rating})"
      ],
      "metadata": {
        "id": "plhK1en1o2uw"
      },
      "execution_count": 27,
      "outputs": []
    },
    {
      "cell_type": "code",
      "source": [
        "ratingMean = dataset['rating'].mean()"
      ],
      "metadata": {
        "id": "QByi6DSMujgV"
      },
      "execution_count": 28,
      "outputs": []
    },
    {
      "cell_type": "code",
      "source": [
        "userAverages = defaultdict(float)\n",
        "itemAverages = defaultdict(float)\n",
        "\n",
        "for u in itemsPerUser:\n",
        "    rs = [ratingDict[(i,u)] for i in itemsPerUser[u]]\n",
        "    userAverages[u] = sum(rs) / len(rs)\n",
        "    \n",
        "for i in usersPerItem:\n",
        "    rs = [ratingDict[(i,u)] for u in usersPerItem[i]]\n",
        "    itemAverages[i] = sum(rs) / len(rs)"
      ],
      "metadata": {
        "id": "oR-cHDFdxppD"
      },
      "execution_count": 29,
      "outputs": []
    },
    {
      "cell_type": "markdown",
      "source": [
        "### Implementing similarity functions\n",
        "\n",
        "TODO:\n",
        "1.   Implement Cosine and Pearson Similarity functions and check the MSE (done)\n",
        "\n"
      ],
      "metadata": {
        "id": "vahjgY0N4Ppe"
      }
    },
    {
      "cell_type": "code",
      "source": [
        "def Jaccard(s1, s2):\n",
        "  num = len(s1.intersection(s2))\n",
        "  den = len(s1.union(s2))\n",
        "\n",
        "  if den == 0: \n",
        "    return 0\n",
        "  return num/den"
      ],
      "metadata": {
        "id": "Za6XRLwIwx0g"
      },
      "execution_count": 121,
      "outputs": []
    },
    {
      "cell_type": "code",
      "source": [
        "def Cosine(i1, i2):\n",
        "    # Between two items\n",
        "    inter = usersPerItem[i1].intersection(usersPerItem[i2])\n",
        "    numer = 0\n",
        "    denom1 = 0\n",
        "    denom2 = 0\n",
        "    for u in inter:\n",
        "        numer += ratingDict[(i1,u)]*ratingDict[(i2,u)]\n",
        "    for u in usersPerItem[i1]:\n",
        "        denom1 += ratingDict[(i1,u)]**2\n",
        "    for u in usersPerItem[i2]:\n",
        "        denom2 += ratingDict[(i2,u)]**2\n",
        "    denom = math.sqrt(denom1) * math.sqrt(denom2)\n",
        "    if denom == 0: return 0\n",
        "    return numer / denom"
      ],
      "metadata": {
        "id": "nmyQzGZkaabs"
      },
      "execution_count": 68,
      "outputs": []
    },
    {
      "cell_type": "code",
      "source": [
        "def CosineUsers(u1, u2):\n",
        "    # Between two items\n",
        "    inter = itemsPerUser[u1].intersection(itemsPerUser[u2])\n",
        "    numer = 0\n",
        "    denom1 = 0\n",
        "    denom2 = 0\n",
        "    for i in inter:\n",
        "        numer += ratingDict[(i,u1)]*ratingDict[(i,u2)]\n",
        "    for i in itemsPerUser[u1]:\n",
        "        denom1 += ratingDict[(i,u1)]**2\n",
        "    for i in itemsPerUser[u2]:\n",
        "        denom2 += ratingDict[(i,u2)]**2\n",
        "    denom = math.sqrt(denom1) * math.sqrt(denom2)\n",
        "    if denom == 0: return 0\n",
        "    return numer / denom"
      ],
      "metadata": {
        "id": "rgVhdgIcr6FR"
      },
      "execution_count": 111,
      "outputs": []
    },
    {
      "cell_type": "code",
      "source": [
        "def Pearson(i1, i2):\n",
        "    # Between two items\n",
        "    iBar1 = itemAverages[i1]\n",
        "    iBar2 = itemAverages[i2]\n",
        "    inter = usersPerItem[i1].intersection(usersPerItem[i2])\n",
        "    numer = 0\n",
        "    denom1 = 0\n",
        "    denom2 = 0\n",
        "    for u in inter:\n",
        "        numer += (ratingDict[(i1,u)] - iBar1)*(ratingDict[(i2,u)] - iBar2)\n",
        "    for u in inter: #usersPerItem[i1]:\n",
        "        denom1 += (ratingDict[(i1,u)] - iBar1)**2\n",
        "    #for u in usersPerItem[i2]:\n",
        "        denom2 += (ratingDict[(i2,u)] - iBar2)**2\n",
        "    denom = math.sqrt(denom1) * math.sqrt(denom2)\n",
        "    if denom == 0: return 0\n",
        "    return numer / denom"
      ],
      "metadata": {
        "id": "PiYSNtcpa3u_"
      },
      "execution_count": 73,
      "outputs": []
    },
    {
      "cell_type": "code",
      "source": [
        "def PearsonUsers(u1, u2):\n",
        "    # Between two items\n",
        "    iBar1 = userAverages[u1]\n",
        "    iBar2 = userAverages[u2]\n",
        "    inter = itemsPerUser[u1].intersection(itemsPerUser[u2])\n",
        "    numer = 0\n",
        "    denom1 = 0\n",
        "    denom2 = 0\n",
        "    for i in inter:\n",
        "        numer += (ratingDict[(i,u1)] - iBar1)*(ratingDict[(i,u2)] - iBar2)\n",
        "    for i in inter: #itemsPerUser[u1]:\n",
        "        denom1 += (ratingDict[(i,u1)] - iBar1)**2\n",
        "    #for i in itemsPerUser[u2]:\n",
        "        denom2 += (ratingDict[(i,u2)] - iBar2)**2\n",
        "    denom = math.sqrt(denom1) * math.sqrt(denom2)\n",
        "    if denom == 0: return 0\n",
        "    return numer / denom"
      ],
      "metadata": {
        "id": "GwvTASRjsXjy"
      },
      "execution_count": 112,
      "outputs": []
    },
    {
      "cell_type": "markdown",
      "source": [
        "### Similarity-based Rating Estimation"
      ],
      "metadata": {
        "id": "YfBJorNy4WTx"
      }
    },
    {
      "cell_type": "code",
      "source": [
        "def MSE(predictions, labels):\n",
        "    differences = [(x-y)**2 for x,y in zip(predictions,labels)]\n",
        "    return sum(differences) / len(differences)"
      ],
      "metadata": {
        "id": "W05IqlRE2Eh7"
      },
      "execution_count": 9,
      "outputs": []
    },
    {
      "cell_type": "code",
      "source": [
        "def predictRatingJaccard(user, item):\n",
        "  ratings = []\n",
        "  similarities = []\n",
        "\n",
        "  for d in reviewsPerUser[user]:\n",
        "    item2 = d['item']\n",
        "\n",
        "    if item2 == item: continue\n",
        "\n",
        "    if(itemAverages[item2] != 0):\n",
        "      ratings.append(d['rating'] - itemAverages[item2])\n",
        "    else:\n",
        "      ratings.append(d['rating'] - ratingMean)\n",
        "\n",
        "    similarities.append(Jaccard(usersPerItem[item2], usersPerItem[item]))\n",
        "\n",
        "  if (sum(similarities) > 0):\n",
        "    weightedRatings = [(x*y) for x,y in zip(ratings,similarities)]\n",
        "    if(itemAverages[item] != 0):\n",
        "      return itemAverages[item] + sum(weightedRatings) / sum(similarities)\n",
        "    else:\n",
        "      return ratingMean + sum(weightedRatings) / sum(similarities)\n",
        "  else:\n",
        "    if(itemAverages[item] != 0):\n",
        "      return itemAverages[item]\n",
        "    else:\n",
        "      return ratingMean"
      ],
      "metadata": {
        "id": "ncU7b1WKvoSH"
      },
      "execution_count": 122,
      "outputs": []
    },
    {
      "cell_type": "code",
      "source": [
        "def predictRatingJaccardUsers(user, item):\n",
        "  ratings = []\n",
        "  similarities = []\n",
        "\n",
        "  for d in reviewsPerItem[item]:\n",
        "    user2 = d['user']\n",
        "\n",
        "    if user2 == user: continue\n",
        "\n",
        "    if(userAverages[user2] != 0):\n",
        "      ratings.append(d['rating'] - userAverages[user2])\n",
        "    else:\n",
        "      ratings.append(d['rating'] - ratingMean)\n",
        "\n",
        "    similarities.append(Jaccard(itemsPerUser[user2], itemsPerUser[user]))\n",
        "\n",
        "  if (sum(similarities) > 0):\n",
        "    weightedRatings = [(x*y) for x,y in zip(ratings,similarities)]\n",
        "    if(userAverages[user] != 0):\n",
        "      return userAverages[user] + sum(weightedRatings) / sum(similarities)\n",
        "    else:\n",
        "      return ratingMean + sum(weightedRatings) / sum(similarities)\n",
        "  else:\n",
        "    if(userAverages[user] != 0):\n",
        "      return userAverages[user]\n",
        "    else:\n",
        "      return ratingMean"
      ],
      "metadata": {
        "id": "1wHmTDgItCAx"
      },
      "execution_count": 123,
      "outputs": []
    },
    {
      "cell_type": "code",
      "source": [
        "def predictRatingCosine(user, item):\n",
        "  ratings = []\n",
        "  similarities = []\n",
        "\n",
        "  for d in reviewsPerUser[user]:\n",
        "    item2 = d['item']\n",
        "\n",
        "    if item2 == item: continue\n",
        "\n",
        "    if(itemAverages[item2] != 0):\n",
        "      ratings.append(d['rating'] - itemAverages[item2])\n",
        "    else:\n",
        "      ratings.append(d['rating'] - ratingMean)\n",
        "\n",
        "    similarities.append(Cosine(item2, item))\n",
        "\n",
        "  if (sum(similarities) > 0):\n",
        "    weightedRatings = [(x*y) for x,y in zip(ratings,similarities)]\n",
        "    if(itemAverages[item] != 0):\n",
        "      return itemAverages[item] + sum(weightedRatings) / sum(similarities)\n",
        "    else:\n",
        "      return ratingMean + sum(weightedRatings) / sum(similarities)\n",
        "  else:\n",
        "    if(itemAverages[item] != 0):\n",
        "      return itemAverages[item]\n",
        "    else:\n",
        "      return ratingMean"
      ],
      "metadata": {
        "id": "j3_-xrSIbFMC"
      },
      "execution_count": 109,
      "outputs": []
    },
    {
      "cell_type": "code",
      "source": [
        "def predictRatingCosineUsers(user, item):\n",
        "  ratings = []\n",
        "  similarities = []\n",
        "\n",
        "  for d in reviewsPerItem[item]:\n",
        "    user2 = d['user']\n",
        "\n",
        "    if user2 == user: continue\n",
        "\n",
        "    if(userAverages[user2] != 0):\n",
        "      ratings.append(d['rating'] - userAverages[user2])\n",
        "    else:\n",
        "      ratings.append(d['rating'] - ratingMean)\n",
        "\n",
        "    similarities.append(CosineUsers(user2, user))\n",
        "\n",
        "  if (sum(similarities) > 0):\n",
        "    weightedRatings = [(x*y) for x,y in zip(ratings,similarities)]\n",
        "    if(userAverages[user] != 0):\n",
        "      return userAverages[user] + sum(weightedRatings) / sum(similarities)\n",
        "    else:\n",
        "      return ratingMean + sum(weightedRatings) / sum(similarities)\n",
        "  else:\n",
        "    if(userAverages[user] != 0):\n",
        "      return userAverages[user]\n",
        "    else:\n",
        "      return ratingMean"
      ],
      "metadata": {
        "id": "HdQURiARto1d"
      },
      "execution_count": 114,
      "outputs": []
    },
    {
      "cell_type": "code",
      "source": [
        "def predictRatingPearson(user, item):\n",
        "  ratings = []\n",
        "  similarities = []\n",
        "\n",
        "  for d in reviewsPerUser[user]:\n",
        "    item2 = d['item']\n",
        "\n",
        "    if item2 == item: continue\n",
        "\n",
        "    if(itemAverages[item2] != 0):\n",
        "      ratings.append(d['rating'] - itemAverages[item2])\n",
        "    else:\n",
        "      ratings.append(d['rating'] - ratingMean)\n",
        "\n",
        "    similarities.append(Pearson(item2, item))\n",
        "\n",
        "  if (sum(similarities) > 0):\n",
        "    weightedRatings = [(x*y) for x,y in zip(ratings,similarities)]\n",
        "    if(itemAverages[item] != 0):\n",
        "      return itemAverages[item] + sum(weightedRatings) / sum(similarities)\n",
        "    else:\n",
        "      return ratingMean + sum(weightedRatings) / sum(similarities)\n",
        "  else:\n",
        "    if(itemAverages[item] != 0):\n",
        "      return itemAverages[item]\n",
        "    else:\n",
        "      return ratingMean"
      ],
      "metadata": {
        "id": "eAn6HkPYbQ1G"
      },
      "execution_count": 100,
      "outputs": []
    },
    {
      "cell_type": "code",
      "source": [
        "def predictRatingPearsonUsers(user, item):\n",
        "  ratings = []\n",
        "  similarities = []\n",
        "\n",
        "  for d in reviewsPerItem[item]:\n",
        "    user2 = d['user']\n",
        "\n",
        "    if user2 == user: continue\n",
        "\n",
        "    if(userAverages[user2] != 0):\n",
        "      ratings.append(d['rating'] - userAverages[user2])\n",
        "    else:\n",
        "      ratings.append(d['rating'] - ratingMean)\n",
        "\n",
        "    similarities.append(PearsonUsers(user2, user))\n",
        "\n",
        "  if (sum(similarities) > 0):\n",
        "    weightedRatings = [(x*y) for x,y in zip(ratings,similarities)]\n",
        "    if(userAverages[user] != 0):\n",
        "      return userAverages[user] + sum(weightedRatings) / sum(similarities)\n",
        "    else:\n",
        "      return ratingMean + sum(weightedRatings) / sum(similarities)\n",
        "  else:\n",
        "    if(userAverages[user] != 0):\n",
        "      return userAverages[user]\n",
        "    else:\n",
        "      return ratingMean"
      ],
      "metadata": {
        "id": "3Uz9XGnrtz9Y"
      },
      "execution_count": 115,
      "outputs": []
    },
    {
      "cell_type": "code",
      "source": [
        "alwaysMean = [] # when you always predict mean\n",
        "predictionsJaccard = []\n",
        "predictionsJaccardUsers = []\n",
        "predictionsCosine = []\n",
        "predictionsCosineUsers = []\n",
        "predictionsPearson = []\n",
        "predictionsPearsonUsers = []\n",
        "actual = []\n",
        "\n",
        "for index, row in test_dataset.iterrows():\n",
        "  user = row['user']\n",
        "  item = row['item']\n",
        "  actual_rating = row['rating']\n",
        "  predicted_rating_Jaccard = predictRatingJaccard(user, item)\n",
        "  predicted_rating_Jaccard_Users = predictRatingJaccardUsers(user, item)\n",
        "  predicted_rating_Cosine = predictRatingCosine(user, item)\n",
        "  predicted_rating_Cosine_Users = predictRatingCosineUsers(user, item)\n",
        "  predicted_rating_Pearson = predictRatingPearson(user, item)\n",
        "  predicted_rating_Pearson_Users = predictRatingPearsonUsers(user, item)\n",
        "\n",
        "  actual.append(actual_rating)\n",
        "  alwaysMean.append(ratingMean)\n",
        "  predictionsJaccard.append(predicted_rating_Jaccard)\n",
        "  predictionsJaccardUsers.append(predicted_rating_Jaccard_Users)\n",
        "  predictionsCosine.append(predicted_rating_Cosine)\n",
        "  predictionsCosineUsers.append(predicted_rating_Cosine_Users)\n",
        "  predictionsPearson.append(predicted_rating_Pearson)\n",
        "  predictionsPearsonUsers.append(predicted_rating_Pearson_Users)"
      ],
      "metadata": {
        "id": "OXPR-XVN1dE1"
      },
      "execution_count": 124,
      "outputs": []
    },
    {
      "cell_type": "markdown",
      "source": [
        "MSE using mean value prediction:"
      ],
      "metadata": {
        "id": "CLeiQC9bkbGq"
      }
    },
    {
      "cell_type": "code",
      "source": [
        "MSE(alwaysMean, actual)"
      ],
      "metadata": {
        "colab": {
          "base_uri": "https://localhost:8080/"
        },
        "id": "odg5FNWD2LZ2",
        "outputId": "a83029d5-106c-4d36-da21-f982599fbcee"
      },
      "execution_count": 125,
      "outputs": [
        {
          "output_type": "execute_result",
          "data": {
            "text/plain": [
              "2.2220352124670564"
            ]
          },
          "metadata": {},
          "execution_count": 125
        }
      ]
    },
    {
      "cell_type": "markdown",
      "source": [
        "MSE using Jaccard similarity:"
      ],
      "metadata": {
        "id": "5jbzGMK3babI"
      }
    },
    {
      "cell_type": "code",
      "source": [
        "MSE(predictionsJaccard, actual)"
      ],
      "metadata": {
        "colab": {
          "base_uri": "https://localhost:8080/"
        },
        "id": "9zWXG_7i2G6R",
        "outputId": "4a88b9c7-304e-4d5f-f135-77722d2a69d2"
      },
      "execution_count": 126,
      "outputs": [
        {
          "output_type": "execute_result",
          "data": {
            "text/plain": [
              "1.9520315086437812"
            ]
          },
          "metadata": {},
          "execution_count": 126
        }
      ]
    },
    {
      "cell_type": "markdown",
      "source": [
        "MSE using Jaccard similarity with users instead of items:"
      ],
      "metadata": {
        "id": "cG96cKYZuaxg"
      }
    },
    {
      "cell_type": "code",
      "source": [
        "MSE(predictionsJaccardUsers, actual)"
      ],
      "metadata": {
        "colab": {
          "base_uri": "https://localhost:8080/"
        },
        "id": "woYUxFpXufRs",
        "outputId": "6d94ae41-23f6-409f-d96c-f09b2d69d03a"
      },
      "execution_count": 127,
      "outputs": [
        {
          "output_type": "execute_result",
          "data": {
            "text/plain": [
              "2.4439494212685773"
            ]
          },
          "metadata": {},
          "execution_count": 127
        }
      ]
    },
    {
      "cell_type": "markdown",
      "source": [
        "MSE using Cosine similarity:"
      ],
      "metadata": {
        "id": "wItkvmTCbgac"
      }
    },
    {
      "cell_type": "code",
      "source": [
        "MSE(predictionsCosine, actual)"
      ],
      "metadata": {
        "colab": {
          "base_uri": "https://localhost:8080/"
        },
        "id": "h0VDzWlVbMnO",
        "outputId": "dc2b802a-ef3e-4642-8c6b-654c3e43ed2a"
      },
      "execution_count": 128,
      "outputs": [
        {
          "output_type": "execute_result",
          "data": {
            "text/plain": [
              "1.9522715270969415"
            ]
          },
          "metadata": {},
          "execution_count": 128
        }
      ]
    },
    {
      "cell_type": "markdown",
      "source": [
        "MSE using Cosine similarity with users instead of items:"
      ],
      "metadata": {
        "id": "k8UG-aLnunpB"
      }
    },
    {
      "cell_type": "code",
      "source": [
        "MSE(predictionsCosineUsers, actual)"
      ],
      "metadata": {
        "colab": {
          "base_uri": "https://localhost:8080/"
        },
        "id": "iagq1AdNulUu",
        "outputId": "f025a4cc-4af4-436b-a60a-496fbcf7880e"
      },
      "execution_count": 129,
      "outputs": [
        {
          "output_type": "execute_result",
          "data": {
            "text/plain": [
              "2.445925868958561"
            ]
          },
          "metadata": {},
          "execution_count": 129
        }
      ]
    },
    {
      "cell_type": "markdown",
      "source": [
        "MSE using Pearson similarity:"
      ],
      "metadata": {
        "id": "FkM6-ELublSF"
      }
    },
    {
      "cell_type": "code",
      "source": [
        "MSE(predictionsPearson, actual)"
      ],
      "metadata": {
        "colab": {
          "base_uri": "https://localhost:8080/"
        },
        "id": "NupHpHOSbksP",
        "outputId": "8e82350e-72b4-468b-e3ed-7263649ceac8"
      },
      "execution_count": 130,
      "outputs": [
        {
          "output_type": "execute_result",
          "data": {
            "text/plain": [
              "1.9629140986021547"
            ]
          },
          "metadata": {},
          "execution_count": 130
        }
      ]
    },
    {
      "cell_type": "markdown",
      "source": [
        "MSE using Pearson similarity with users instead of items:"
      ],
      "metadata": {
        "id": "iAPNL5xnur41"
      }
    },
    {
      "cell_type": "code",
      "source": [
        "MSE(predictionsPearsonUsers, actual)"
      ],
      "metadata": {
        "colab": {
          "base_uri": "https://localhost:8080/"
        },
        "id": "GNMsBjKMuvjq",
        "outputId": "070989df-186a-4799-e2d9-777601e1a06f"
      },
      "execution_count": 131,
      "outputs": [
        {
          "output_type": "execute_result",
          "data": {
            "text/plain": [
              "2.5303757251800105"
            ]
          },
          "metadata": {},
          "execution_count": 131
        }
      ]
    },
    {
      "cell_type": "code",
      "source": [],
      "metadata": {
        "id": "vVLVUb-Jjneb"
      },
      "execution_count": null,
      "outputs": []
    }
  ]
}