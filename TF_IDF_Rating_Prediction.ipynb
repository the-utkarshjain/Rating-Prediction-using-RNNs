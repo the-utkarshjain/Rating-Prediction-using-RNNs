{
  "nbformat": 4,
  "nbformat_minor": 0,
  "metadata": {
    "colab": {
      "provenance": []
    },
    "kernelspec": {
      "name": "python3",
      "display_name": "Python 3"
    },
    "language_info": {
      "name": "python"
    }
  },
  "cells": [
    {
      "cell_type": "code",
      "source": [
        "from sklearn.feature_extraction.text import TfidfVectorizer\n",
        "from sklearn.linear_model import Ridge\n",
        "import pandas as pd\n",
        "import numpy as np\n",
        "import nltk\n",
        "nltk.download('stopwords')\n",
        "\n",
        "from nltk.corpus import stopwords\n",
        "stop = stopwords.words('english')"
      ],
      "metadata": {
        "colab": {
          "base_uri": "https://localhost:8080/"
        },
        "id": "DRtvSLAyXsy3",
        "outputId": "e90e6026-fe6d-4e68-91ff-457c2d7caa74"
      },
      "execution_count": null,
      "outputs": [
        {
          "output_type": "stream",
          "name": "stderr",
          "text": [
            "[nltk_data] Downloading package stopwords to /root/nltk_data...\n",
            "[nltk_data]   Unzipping corpora/stopwords.zip.\n"
          ]
        }
      ]
    },
    {
      "cell_type": "code",
      "source": [
        "train_dataset = \"/content/drive/Shareddrives/CSE258/clean_data/train.csv\"\n",
        "valid_dataset = \"/content/drive/Shareddrives/CSE258/clean_data/valid.csv\"\n",
        "test_dataset = \"/content/drive/Shareddrives/CSE258/clean_data/test.csv\""
      ],
      "metadata": {
        "id": "68-f-2CaXaqj"
      },
      "execution_count": null,
      "outputs": []
    },
    {
      "cell_type": "code",
      "source": [
        "train_df = pd.read_csv(train_dataset)\n",
        "train_df = train_df[(train_df.review.notnull())]\n",
        "\n",
        "valid_df = pd.read_csv(valid_dataset)\n",
        "valid_df = valid_df[(valid_df.review.notnull())]\n",
        "\n",
        "test_df = pd.read_csv(test_dataset)\n",
        "test_df = test_df[(test_df.review.notnull())]\n",
        "\n",
        "X = train_df.iloc[:, 5].values\n",
        "y = train_df.iloc[:, 4].values\n",
        "\n",
        "X_valid = valid_df.iloc[:, 5].values\n",
        "y_valid = valid_df.iloc[:, 4].values\n",
        "\n",
        "X_test = test_df.iloc[:, 5].values\n",
        "y_test = test_df.iloc[:, 4].values"
      ],
      "metadata": {
        "id": "EBTOwS3GaWWV"
      },
      "execution_count": null,
      "outputs": []
    },
    {
      "cell_type": "code",
      "source": [
        "def MSE(predictions, labels):\n",
        "  differences = [(x-y)**2 for x,y in zip(predictions,labels)]\n",
        "  return sum(differences) / len(differences)"
      ],
      "metadata": {
        "id": "EOot16ovek21"
      },
      "execution_count": null,
      "outputs": []
    },
    {
      "cell_type": "code",
      "source": [
        "from sklearn.feature_extraction.text import TfidfVectorizer\n",
        "\n",
        "td = TfidfVectorizer(max_features = 750, stop_words = stop)\n",
        "X_train = td.fit_transform(X).toarray()\n",
        "X_tests = td.transform(X_test).toarray()\n",
        "X_valids = td.transform(X_valid).toarray()"
      ],
      "metadata": {
        "id": "PmDFyL9qcdU-"
      },
      "execution_count": null,
      "outputs": []
    },
    {
      "cell_type": "code",
      "source": [
        "from sklearn import linear_model\n",
        "clf = linear_model.LinearRegression(fit_intercept=True)\n",
        "clf.fit(X_train, y)\n",
        "\n",
        "# y_train_pred = clf.predict(X_train)\n",
        "# print(MSE(y_train_pred, y))\n",
        "\n",
        "y_valid_pred = clf.predict(X_valids)\n",
        "print(MSE(y_valid_pred, y_valid))\n",
        "\n",
        "# y_test_pred = clf.predict(X_tests)\n",
        "# print(MSE(y_test_pred, y_test))\n"
      ],
      "metadata": {
        "colab": {
          "base_uri": "https://localhost:8080/"
        },
        "id": "O58GFjrBekb0",
        "outputId": "d6f89b30-3543-47fd-eacc-361fa98ed558"
      },
      "execution_count": null,
      "outputs": [
        {
          "output_type": "stream",
          "name": "stdout",
          "text": [
            "1.4514987369279777\n"
          ]
        }
      ]
    },
    {
      "cell_type": "code",
      "source": [
        "index2term = []\n",
        "for k, v in td.vocabulary_.items():\n",
        "  index2term.append((v, k))\n",
        "\n",
        "index2term.sort()"
      ],
      "metadata": {
        "id": "aCH5E_LqhzS6"
      },
      "execution_count": null,
      "outputs": []
    },
    {
      "cell_type": "code",
      "source": [
        "clf.coef_[td.vocabulary_[\"horrible\"]]"
      ],
      "metadata": {
        "colab": {
          "base_uri": "https://localhost:8080/"
        },
        "id": "Ag3tD6rFja4j",
        "outputId": "c3e90b0d-d26b-45aa-dd8f-0ca4e2418740"
      },
      "execution_count": null,
      "outputs": [
        {
          "output_type": "execute_result",
          "data": {
            "text/plain": [
              "-2.4831153778304946"
            ]
          },
          "metadata": {},
          "execution_count": 24
        }
      ]
    },
    {
      "cell_type": "code",
      "source": [
        "clf.coef_[td.vocabulary_[\"worst\"]]"
      ],
      "metadata": {
        "colab": {
          "base_uri": "https://localhost:8080/"
        },
        "id": "hZfFHaxrkWPA",
        "outputId": "3dac0537-f638-453d-d71e-dcce2a1b3e49"
      },
      "execution_count": null,
      "outputs": [
        {
          "output_type": "execute_result",
          "data": {
            "text/plain": [
              "-4.573160551351237"
            ]
          },
          "metadata": {},
          "execution_count": 25
        }
      ]
    },
    {
      "cell_type": "code",
      "source": [],
      "metadata": {
        "id": "9IA_ySlTfW5j"
      },
      "execution_count": null,
      "outputs": []
    }
  ]
}