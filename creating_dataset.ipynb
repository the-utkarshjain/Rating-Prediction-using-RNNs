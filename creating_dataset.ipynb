{
 "cells": [
  {
   "cell_type": "code",
   "execution_count": null,
   "metadata": {},
   "outputs": [],
   "source": [
    "import pandas as pd\n",
    "from sklearn.model_selection import train_test_split"
   ]
  },
  {
   "cell_type": "code",
   "execution_count": null,
   "metadata": {},
   "outputs": [],
   "source": [
    "if False:\n",
    "    csv_file = open(\"epinions.csv\", 'w')\n",
    "    file1 =  open('./epinions_data/epinions.txt', 'r', encoding='utf8', errors = 'ignore')\n",
    "\n",
    "    count = 0\n",
    "\n",
    "    skip = False\n",
    "    for l in file1.readlines():\n",
    "        if skip:\n",
    "            skip = False\n",
    "            continue\n",
    "\n",
    "        words = l.strip().split(' ')\n",
    "\n",
    "        if(len(words) < 5):\n",
    "            skip = True\n",
    "            continue\n",
    "\n",
    "        item, user, paid, time, rating = words[0], words[1], words[2], words[3], words[4]\n",
    "        review = \" \".join(words[5:])\n",
    "        csv_file.write(item + \",\" + user + \",\" + paid + \",\" + time + \",\" + rating + \",\" + review + \"\\n\")\n",
    "        count = count + 1\n",
    "\n",
    "    file1.close()\n",
    "    csv_file.close()"
   ]
  },
  {
   "cell_type": "code",
   "execution_count": null,
   "metadata": {},
   "outputs": [],
   "source": [
    "col_names=[\"item\", \"user\", \"paid\", \"time\", \"rating\", \"review\"]\n",
    "df = pd.read_csv(\"epinions.csv\", names=col_names)\n",
    "\n",
    "df[[\"item\", \"user\", \"review\"]] = df[[\"item\", \"user\", \"review\"]].astype(str)\n",
    "\n",
    "df.to_csv('epinions_clean.csv', header = True, index=False)"
   ]
  },
  {
   "cell_type": "code",
   "execution_count": null,
   "metadata": {},
   "outputs": [],
   "source": [
    "df_clean = pd.read_csv(\"epinions_clean.csv\")\n",
    "\n",
    "train, test = train_test_split(df_clean, test_size=0.1, shuffle=True)\n",
    "training, validation =  train_test_split(train, test_size=0.11, shuffle=True)"
   ]
  },
  {
   "cell_type": "code",
   "execution_count": null,
   "metadata": {},
   "outputs": [],
   "source": [
    "training.to_csv(\"train.csv\", header = True, index = False)\n",
    "validation.to_csv(\"valid.csv\", header = True, index = False)\n",
    "test.to_csv(\"test.csv\", header = True, index = False)"
   ]
  }
 ],
 "metadata": {
  "kernelspec": {
   "display_name": "Python 3",
   "language": "python",
   "name": "python3"
  },
  "language_info": {
   "codemirror_mode": {
    "name": "ipython",
    "version": 3
   },
   "file_extension": ".py",
   "mimetype": "text/x-python",
   "name": "python",
   "nbconvert_exporter": "python",
   "pygments_lexer": "ipython3",
   "version": "3.7.6"
  }
 },
 "nbformat": 4,
 "nbformat_minor": 5
}
