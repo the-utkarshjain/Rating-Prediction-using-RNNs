{
 "cells": [
  {
   "cell_type": "code",
   "execution_count": 110,
   "id": "d87c5a93-2864-4bed-aaa4-696ca599bbdb",
   "metadata": {},
   "outputs": [],
   "source": [
    "from collections import defaultdict\n",
    "import pandas as pd\n",
    "import scipy.optimize\n",
    "import numpy \n",
    "from sklearn import svm\n",
    "import random"
   ]
  },
  {
   "cell_type": "code",
   "execution_count": 126,
   "id": "2a3cdfc3-81c4-4167-a4d8-33d7750d4ca9",
   "metadata": {},
   "outputs": [
    {
     "data": {
      "text/plain": [
       "(175869, 6)"
      ]
     },
     "execution_count": 126,
     "metadata": {},
     "output_type": "execute_result"
    }
   ],
   "source": [
    "train_dataset = pd.read_csv('train.csv')\n",
    "validation_dataset = pd.read_csv('valid.csv')\n",
    "test_dataset = pd.read_csv('test.csv')\n",
    "\n",
    "dataset = pd.concat([train_dataset, validation_dataset]) # merges train and validation dataset into one beacause we don't need a validation set for similarity-based rating prediction\n",
    "dataset.shape"
   ]
  },
  {
   "cell_type": "code",
   "execution_count": 127,
   "id": "3afa84a9-e674-40c2-af27-1cf9e3abe4db",
   "metadata": {},
   "outputs": [
    {
     "data": {
      "text/html": [
       "<div>\n",
       "<style scoped>\n",
       "    .dataframe tbody tr th:only-of-type {\n",
       "        vertical-align: middle;\n",
       "    }\n",
       "\n",
       "    .dataframe tbody tr th {\n",
       "        vertical-align: top;\n",
       "    }\n",
       "\n",
       "    .dataframe thead th {\n",
       "        text-align: right;\n",
       "    }\n",
       "</style>\n",
       "<table border=\"1\" class=\"dataframe\">\n",
       "  <thead>\n",
       "    <tr style=\"text-align: right;\">\n",
       "      <th></th>\n",
       "      <th>item</th>\n",
       "      <th>user</th>\n",
       "      <th>paid</th>\n",
       "      <th>time</th>\n",
       "      <th>rating</th>\n",
       "      <th>review</th>\n",
       "    </tr>\n",
       "  </thead>\n",
       "  <tbody>\n",
       "    <tr>\n",
       "      <th>0</th>\n",
       "      <td>Fisher_Price_Loving_Family_Sweet_Sounds_Dollhouse</td>\n",
       "      <td>karleigh</td>\n",
       "      <td>79.99</td>\n",
       "      <td>1071878400</td>\n",
       "      <td>4.0</td>\n",
       "      <td>i researched and looked at all the fisher pric...</td>\n",
       "    </tr>\n",
       "    <tr>\n",
       "      <th>1</th>\n",
       "      <td>Nokia_E62_Smartphone</td>\n",
       "      <td>mfw1982</td>\n",
       "      <td>199.0</td>\n",
       "      <td>1196294400</td>\n",
       "      <td>5.0</td>\n",
       "      <td>no it doesnt have a camera and yes the keys ar...</td>\n",
       "    </tr>\n",
       "    <tr>\n",
       "      <th>2</th>\n",
       "      <td>pr-Dell_DJ_15GB_MP3_Player</td>\n",
       "      <td>davydanger</td>\n",
       "      <td>199.0</td>\n",
       "      <td>1081987200</td>\n",
       "      <td>1.0</td>\n",
       "      <td>i was very excited to buy this product given a...</td>\n",
       "    </tr>\n",
       "    <tr>\n",
       "      <th>3</th>\n",
       "      <td>Blue_s_Clues_Bath_Time_Blue</td>\n",
       "      <td>kbmg</td>\n",
       "      <td>gift</td>\n",
       "      <td>990489600</td>\n",
       "      <td>2.0</td>\n",
       "      <td>my two kids ages 2 and 4 are big blues clues f...</td>\n",
       "    </tr>\n",
       "    <tr>\n",
       "      <th>4</th>\n",
       "      <td>Spider_Man_Gloves</td>\n",
       "      <td>pluckyduck</td>\n",
       "      <td>9.99</td>\n",
       "      <td>1031443200</td>\n",
       "      <td>3.0</td>\n",
       "      <td>dad was walking through toys r us the other we...</td>\n",
       "    </tr>\n",
       "  </tbody>\n",
       "</table>\n",
       "</div>"
      ],
      "text/plain": [
       "                                                item        user   paid  \\\n",
       "0  Fisher_Price_Loving_Family_Sweet_Sounds_Dollhouse    karleigh  79.99   \n",
       "1                               Nokia_E62_Smartphone     mfw1982  199.0   \n",
       "2                         pr-Dell_DJ_15GB_MP3_Player  davydanger  199.0   \n",
       "3                        Blue_s_Clues_Bath_Time_Blue        kbmg   gift   \n",
       "4                                  Spider_Man_Gloves  pluckyduck   9.99   \n",
       "\n",
       "         time  rating                                             review  \n",
       "0  1071878400     4.0  i researched and looked at all the fisher pric...  \n",
       "1  1196294400     5.0  no it doesnt have a camera and yes the keys ar...  \n",
       "2  1081987200     1.0  i was very excited to buy this product given a...  \n",
       "3   990489600     2.0  my two kids ages 2 and 4 are big blues clues f...  \n",
       "4  1031443200     3.0  dad was walking through toys r us the other we...  "
      ]
     },
     "execution_count": 127,
     "metadata": {},
     "output_type": "execute_result"
    }
   ],
   "source": [
    "train_dataset.head()"
   ]
  },
  {
   "cell_type": "code",
   "execution_count": 128,
   "id": "d53fe6a1-56f5-45b0-b88e-1f0630c2b65b",
   "metadata": {},
   "outputs": [],
   "source": [
    "usersPerItem = defaultdict(set)\n",
    "itemsPerUser = defaultdict(set)\n",
    "reviewsPerUser = defaultdict(list)\n",
    "reviewsPerItem = defaultdict(list)\n",
    "ratingDict = {}"
   ]
  },
  {
   "cell_type": "code",
   "execution_count": 129,
   "id": "14c16003-b8d3-4c3e-8328-4c705b517c61",
   "metadata": {},
   "outputs": [],
   "source": [
    "for index, row in dataset.iterrows():\n",
    "  item = row['item']\n",
    "  user = row['user']\n",
    "  rating = row['rating']\n",
    "\n",
    "  usersPerItem[item].add(user)\n",
    "  itemsPerUser[user].add(item)\n",
    "\n",
    "  ratingDict[(item, user)] = rating\n",
    "\n",
    "  reviewsPerUser[user].append({'item': item, 'rating': rating})\n",
    "  reviewsPerItem[item].append({'user': user, 'rating': rating})"
   ]
  },
  {
   "cell_type": "code",
   "execution_count": 130,
   "id": "06b97792-3e1d-43a7-84b6-0a58be286d39",
   "metadata": {},
   "outputs": [],
   "source": [
    "ratingMean = sum([d['rating'] for i,d in dataset.iterrows()]) / len(dataset)"
   ]
  },
  {
   "cell_type": "code",
   "execution_count": 131,
   "id": "d29bd4f5-faf5-4ca3-98ad-720a4ca94a1d",
   "metadata": {},
   "outputs": [
    {
     "data": {
      "text/plain": [
       "3.629007954784527"
      ]
     },
     "execution_count": 131,
     "metadata": {},
     "output_type": "execute_result"
    }
   ],
   "source": [
    "ratingMean"
   ]
  },
  {
   "cell_type": "code",
   "execution_count": 132,
   "id": "41524889-438f-4653-a3d1-7807ea4e533a",
   "metadata": {},
   "outputs": [],
   "source": [
    "labels = [d['rating'] for i,d in dataset.iterrows()]"
   ]
  },
  {
   "cell_type": "code",
   "execution_count": 133,
   "id": "c7474842-6da8-4d8c-8947-c801b39bc171",
   "metadata": {},
   "outputs": [],
   "source": [
    "userAverages = defaultdict(float)\n",
    "itemAverages = defaultdict(float)\n",
    "\n",
    "for u in itemsPerUser:\n",
    "    rs = [ratingDict[(i,u)] for i in itemsPerUser[u]]\n",
    "    userAverages[u] = sum(rs) / len(rs)\n",
    "    \n",
    "for i in usersPerItem:\n",
    "    rs = [ratingDict[(i,u)] for u in usersPerItem[i]]\n",
    "    itemAverages[i] = sum(rs) / len(rs)"
   ]
  },
  {
   "cell_type": "code",
   "execution_count": 134,
   "id": "05472bbb-d079-4f3f-9fc3-812757292e52",
   "metadata": {},
   "outputs": [],
   "source": [
    "def MSE(predictions, labels):\n",
    "    differences = [(x-y)**2 for x,y in zip(predictions,labels)]\n",
    "    return sum(differences) / len(differences)"
   ]
  },
  {
   "cell_type": "markdown",
   "id": "23e73a06-b175-465d-a7c3-d29aeead7d3f",
   "metadata": {},
   "source": [
    "Bias Only model"
   ]
  },
  {
   "cell_type": "code",
   "execution_count": 196,
   "id": "4999e390-a455-4e74-82ea-9c227a286b84",
   "metadata": {},
   "outputs": [],
   "source": [
    "N = len(dataset)\n",
    "nUsers = len(reviewsPerUser)\n",
    "nItems = len(reviewsPerItem)\n",
    "users = list(reviewsPerUser.keys())\n",
    "items = list(reviewsPerItem.keys())"
   ]
  },
  {
   "cell_type": "code",
   "execution_count": 197,
   "id": "1a8b7c4a-d72e-4718-89b6-5ff81a69c748",
   "metadata": {},
   "outputs": [],
   "source": [
    "alpha = ratingMean"
   ]
  },
  {
   "cell_type": "code",
   "execution_count": 198,
   "id": "e944045d-8352-4343-abd4-6047290dc504",
   "metadata": {},
   "outputs": [],
   "source": [
    "userBiases = defaultdict(float)\n",
    "itemBiases = defaultdict(float)"
   ]
  },
  {
   "cell_type": "code",
   "execution_count": 199,
   "id": "a9f2606e-7845-4dbb-8b7e-3452606d4436",
   "metadata": {},
   "outputs": [],
   "source": [
    "\n",
    "def prediction(user, item):\n",
    "    return alpha + userBiases[user] + itemBiases[item]"
   ]
  },
  {
   "cell_type": "code",
   "execution_count": 200,
   "id": "ad910bf0-18ba-49e6-85ef-df7cd1048e7f",
   "metadata": {},
   "outputs": [],
   "source": [
    "def unpack(theta):\n",
    "    global alpha\n",
    "    global userBiases\n",
    "    global itemBiases\n",
    "    alpha = theta[0]\n",
    "    userBiases = dict(zip(users, theta[1:nUsers+1]))\n",
    "    itemBiases = dict(zip(items, theta[1+nUsers:]))"
   ]
  },
  {
   "cell_type": "code",
   "execution_count": 201,
   "id": "79d371ab-2087-4b07-a9ad-7d979cdfaeee",
   "metadata": {},
   "outputs": [],
   "source": [
    "def cost(theta, labels, lamb):\n",
    "    unpack(theta)\n",
    "    predictions = [prediction(d['user'], d['item']) for i,d in dataset.iterrows()]\n",
    "    cost = MSE(predictions, labels)\n",
    "    print(\"MSE = \" + str(cost))\n",
    "    for u in userBiases:\n",
    "        cost += lamb*userBiases[u]**2\n",
    "    for i in itemBiases:\n",
    "        cost += lamb*itemBiases[i]**2\n",
    "    return cost"
   ]
  },
  {
   "cell_type": "code",
   "execution_count": 202,
   "id": "c6817f5f-a10a-4a7d-bd48-a422de850bbb",
   "metadata": {},
   "outputs": [],
   "source": [
    "def derivative(theta, labels, lamb):\n",
    "    unpack(theta)\n",
    "    N = len(dataset)\n",
    "    dalpha = 0\n",
    "    dUserBiases = defaultdict(float)\n",
    "    dItemBiases = defaultdict(float)\n",
    "    for i,d in dataset.iterrows():\n",
    "        u,i = d['user'], d['item']\n",
    "        pred = prediction(u, i)\n",
    "        diff = pred - d['rating']\n",
    "        dalpha += 2/N*diff\n",
    "        dUserBiases[u] += 2/N*diff\n",
    "        dItemBiases[i] += 2/N*diff\n",
    "    for u in userBiases:\n",
    "        dUserBiases[u] += 2*lamb*userBiases[u]\n",
    "    for i in itemBiases:\n",
    "        dItemBiases[i] += 2*lamb*itemBiases[i]\n",
    "    dtheta = [dalpha] + [dUserBiases[u] for u in users] + [dItemBiases[i] for i in items]\n",
    "    return numpy.array(dtheta)"
   ]
  },
  {
   "cell_type": "code",
   "execution_count": 203,
   "id": "be972373-515b-4970-817b-67eeac8b5ed8",
   "metadata": {},
   "outputs": [
    {
     "name": "stdout",
     "output_type": "stream",
     "text": [
      "MSE = 2.2419428837212503\n",
      "MSE = 2.219513490604071\n",
      "MSE = 2.139113881125881\n",
      "MSE = 61.28241720504475\n",
      "MSE = 2.1362176841846305\n",
      "MSE = 1.9592247223578028\n",
      "MSE = 1.9364304784473452\n",
      "MSE = 1.8547870267018822\n",
      "MSE = 1.5205513438642062\n",
      "MSE = 1.377930392080828\n",
      "MSE = 1.1815155745356969\n",
      "MSE = 1.0644465322717513\n",
      "MSE = 0.9802848785014515\n",
      "MSE = 0.8837297694604103\n",
      "MSE = 0.8053330445124265\n",
      "MSE = 0.7490976716978598\n",
      "MSE = 0.6867506824713819\n",
      "MSE = 1.1592833515910728\n",
      "MSE = 0.6856001680880784\n",
      "MSE = 0.668070325959807\n",
      "MSE = 0.6498474288029386\n",
      "MSE = 0.6361525378447217\n",
      "MSE = 0.6281797374907204\n",
      "MSE = 0.6154312501241653\n",
      "MSE = 0.5928245233005754\n",
      "MSE = 0.5668392868466373\n",
      "MSE = 0.5447020996745311\n",
      "MSE = 0.5387616993018053\n",
      "MSE = 0.5347486362848033\n",
      "MSE = 0.5264809766514112\n",
      "MSE = 0.5222837652455017\n",
      "MSE = 0.5229410669875301\n",
      "MSE = 0.5122930329483303\n",
      "MSE = 0.5100455801456114\n",
      "MSE = 0.5085480270410409\n",
      "MSE = 0.5130078421506069\n",
      "MSE = 0.5096115457632093\n",
      "MSE = 0.5090016810380557\n",
      "MSE = 0.5080736268959749\n",
      "MSE = 0.5079092907939785\n",
      "MSE = 0.5076818559995344\n",
      "MSE = 0.5065754170870455\n",
      "MSE = 0.505247573864208\n",
      "MSE = 0.5086928466197674\n",
      "MSE = 0.5054856961330958\n",
      "MSE = 0.5052261697162468\n",
      "MSE = 0.5047842470656396\n",
      "MSE = 0.504118195183731\n",
      "MSE = 0.503513148756721\n",
      "MSE = 0.5011866205062091\n",
      "MSE = 0.5026777909048291\n",
      "MSE = 0.5022576091861968\n",
      "MSE = 0.5009306819306317\n",
      "MSE = 0.500972667445189\n",
      "MSE = 0.5010319431892238\n",
      "MSE = 0.5008403998241892\n",
      "MSE = 0.5003435325185581\n",
      "MSE = 1.2087424504308535\n",
      "MSE = 0.50016871459103\n",
      "MSE = 0.5000336245231232\n",
      "MSE = 0.5227797861701939\n",
      "MSE = 0.5000604707697314\n",
      "MSE = 0.49987187219486945\n",
      "MSE = 0.5287003258816876\n",
      "MSE = 0.5000345169774886\n",
      "MSE = 0.4998907490249333\n",
      "MSE = 0.5037741394006283\n",
      "MSE = 0.5001778919879993\n",
      "MSE = 0.49976745243533316\n",
      "MSE = 0.49648881781462206\n",
      "MSE = 0.4931942274898557\n",
      "MSE = 0.48977819926993127\n",
      "MSE = 0.49369099806526934\n",
      "MSE = 0.4894739333629559\n",
      "MSE = 0.4876927846529928\n",
      "MSE = 0.4897232314552198\n",
      "MSE = 0.48741103013516607\n",
      "MSE = 0.487761565433205\n",
      "MSE = 0.4884866967209271\n",
      "MSE = 0.4882707450832269\n",
      "MSE = 0.4878903057192832\n",
      "MSE = 0.4874291291328211\n",
      "MSE = 0.48719984829723767\n",
      "MSE = 0.4863847531518855\n",
      "MSE = 0.48647979409413694\n",
      "MSE = 0.486532470527093\n",
      "MSE = 0.48679922468144243\n",
      "MSE = 0.4866578155617725\n",
      "MSE = 0.48673919453184533\n",
      "MSE = 0.4867552323469219\n",
      "MSE = 0.48671797743495565\n",
      "MSE = 0.4866503458130367\n",
      "MSE = 0.48621893741419586\n",
      "MSE = 0.48587131511980297\n",
      "MSE = 0.48522633093833795\n",
      "MSE = 0.4850679603397186\n",
      "MSE = 0.48994927290235196\n",
      "MSE = 0.485226922908807\n",
      "MSE = 0.48515696519205653\n",
      "MSE = 0.482581365959041\n",
      "MSE = 0.4848767560840934\n",
      "MSE = 0.48506215866852365\n",
      "MSE = 0.48529881432693783\n",
      "MSE = 0.48540393984387836\n",
      "MSE = 0.48533323384253485\n",
      "MSE = 0.4853155036467403\n",
      "MSE = 0.48511142705409493\n",
      "MSE = 0.490040190883976\n",
      "MSE = 0.4854575157350218\n",
      "MSE = 0.4847993482438812\n",
      "MSE = 0.48386887008659374\n",
      "MSE = 0.48387577237128104\n",
      "MSE = 0.4838688042873064\n",
      "MSE = 0.4844898948670974\n",
      "MSE = 0.48434352337029374\n",
      "MSE = 0.4840065818966962\n",
      "MSE = 0.48365566403292637\n",
      "MSE = 0.485962334882931\n",
      "MSE = 0.4836811143931348\n",
      "MSE = 0.48343094258446934\n",
      "MSE = 0.483476057693817\n",
      "MSE = 0.48365016778370234\n",
      "MSE = 0.4837478126541255\n"
     ]
    },
    {
     "data": {
      "text/plain": [
       "(array([ 3.58714951,  0.88946612,  1.08661452, ..., -0.55120852,\n",
       "        -1.27120264,  0.49108303]),\n",
       " 0.8241355216727738,\n",
       " {'grad': array([ 4.66616407e-04,  3.41937470e-07, -6.58211634e-07, ...,\n",
       "          3.41381856e-10, -4.25935373e-07,  1.30434004e-08]),\n",
       "  'task': 'STOP: TOTAL NO. of ITERATIONS REACHED LIMIT',\n",
       "  'funcalls': 123,\n",
       "  'nit': 100,\n",
       "  'warnflag': 1})"
      ]
     },
     "execution_count": 203,
     "metadata": {},
     "output_type": "execute_result"
    }
   ],
   "source": [
    "scipy.optimize.fmin_l_bfgs_b(cost, [alpha] + [0.0]*(nUsers+nItems),\n",
    "                             derivative, args = (labels, 0.000005), maxiter=100)"
   ]
  },
  {
   "cell_type": "code",
   "execution_count": 204,
   "id": "9f1eb555-58b1-4826-9b9f-54baf759e416",
   "metadata": {},
   "outputs": [],
   "source": [
    "def predictionBiasOnly(user, item):\n",
    "    if user not in userBiases:\n",
    "        userBiases[user] = 0\n",
    "    if item not in itemBiases:\n",
    "        itemBiases[item] = 0\n",
    "    return alpha + userBiases[user] + itemBiases[item]"
   ]
  },
  {
   "cell_type": "code",
   "execution_count": 205,
   "id": "51c00ecf-a3fa-49d4-9e32-55cd6d6d63d5",
   "metadata": {},
   "outputs": [],
   "source": [
    "testpred = [predictionBiasOnly(d['user'], d['item']) for i,d in test_dataset.iterrows()]\n",
    "testlabels = [d['rating'] for i,d in test_dataset.iterrows()]"
   ]
  },
  {
   "cell_type": "code",
   "execution_count": 206,
   "id": "216b5c06-ca71-41b9-86f4-d562e9529f26",
   "metadata": {},
   "outputs": [],
   "source": [
    "testMSE = MSE(testpred, testlabels)"
   ]
  },
  {
   "cell_type": "markdown",
   "id": "53bde2a7-a546-4db5-992a-e5332ab26781",
   "metadata": {},
   "source": [
    "Bias Only model\n",
    "lambda - 0.01, MSE - 2.2027241538606552;\n",
    "lambda - 0.001, MSE - 2.096447470904356; \n",
    "lambda - 0.005, MSE - 2.0302324437660197;\n",
    "lambda - 0.0001, MSE - 1.8416213205671876;\n",
    "lambda - 0.00001, MSE - 1.744941635391268;\n",
    "lambda - 0.000005, MSE - 1.7920784925895148;"
   ]
  },
  {
   "cell_type": "code",
   "execution_count": 207,
   "id": "bbafb969-5273-41e0-9beb-cebe2cf000ac",
   "metadata": {},
   "outputs": [
    {
     "data": {
      "text/plain": [
       "1.7920784925895148"
      ]
     },
     "execution_count": 207,
     "metadata": {},
     "output_type": "execute_result"
    }
   ],
   "source": [
    "testMSE"
   ]
  },
  {
   "cell_type": "markdown",
   "id": "035119c6-f777-4ecb-ba6d-5176bfccf95d",
   "metadata": {},
   "source": [
    "Complete latent factor model"
   ]
  },
  {
   "cell_type": "code",
   "execution_count": 208,
   "id": "ff580500-5b64-44d8-b753-248b1024cc29",
   "metadata": {},
   "outputs": [],
   "source": [
    "alpha = ratingMean"
   ]
  },
  {
   "cell_type": "code",
   "execution_count": 209,
   "id": "4cc06b02-5294-4c30-8ae2-76d348f871e2",
   "metadata": {},
   "outputs": [],
   "source": [
    "userBiases = defaultdict(float)\n",
    "itemBiases = defaultdict(float)"
   ]
  },
  {
   "cell_type": "code",
   "execution_count": 210,
   "id": "0095e3ee-fe39-451a-87f2-2cb3d86d3934",
   "metadata": {},
   "outputs": [],
   "source": [
    "userGamma = {}\n",
    "itemGamma = {}"
   ]
  },
  {
   "cell_type": "code",
   "execution_count": 211,
   "id": "0335d579-b4cb-4964-a065-1a0c04c8d07b",
   "metadata": {},
   "outputs": [],
   "source": [
    "K = 2"
   ]
  },
  {
   "cell_type": "code",
   "execution_count": 212,
   "id": "c6978cd9-2225-4361-92e2-98f25318a936",
   "metadata": {},
   "outputs": [],
   "source": [
    "for u in reviewsPerUser:\n",
    "    userGamma[u] = [random.random() * 0.1 - 0.05 for k in range(K)]"
   ]
  },
  {
   "cell_type": "code",
   "execution_count": 213,
   "id": "9c431159-5f83-4829-b467-6d7dac58bfe9",
   "metadata": {},
   "outputs": [],
   "source": [
    "for i in reviewsPerItem:\n",
    "    itemGamma[i] = [random.random() * 0.1 - 0.05 for k in range(K)]"
   ]
  },
  {
   "cell_type": "code",
   "execution_count": 214,
   "id": "c52e1d5d-6b8f-491e-9758-7f0ea3d8f291",
   "metadata": {},
   "outputs": [],
   "source": [
    "def unpack(theta):\n",
    "    global alpha\n",
    "    global userBiases\n",
    "    global itemBiases\n",
    "    global userGamma\n",
    "    global itemGamma\n",
    "    index = 0\n",
    "    alpha = theta[index]\n",
    "    index += 1\n",
    "    userBiases = dict(zip(users, theta[index:index+nUsers]))\n",
    "    index += nUsers\n",
    "    itemBiases = dict(zip(items, theta[index:index+nItems]))\n",
    "    index += nItems\n",
    "    for u in users:\n",
    "        userGamma[u] = theta[index:index+K]\n",
    "        index += K\n",
    "    for i in items:\n",
    "        itemGamma[i] = theta[index:index+K]\n",
    "        index += K"
   ]
  },
  {
   "cell_type": "code",
   "execution_count": 215,
   "id": "ef039b4b-6007-41bc-ac51-c94771958960",
   "metadata": {},
   "outputs": [],
   "source": [
    "def inner(x, y):\n",
    "    return sum([a*b for a,b in zip(x,y)])"
   ]
  },
  {
   "cell_type": "code",
   "execution_count": 216,
   "id": "f7d0675c-3f23-4156-8e0e-80d55003937d",
   "metadata": {},
   "outputs": [],
   "source": [
    "def prediction(user, item):\n",
    "    return alpha + userBiases[user] + itemBiases[item] + inner(userGamma[user], itemGamma[item])"
   ]
  },
  {
   "cell_type": "code",
   "execution_count": 217,
   "id": "4435f2b3-d39c-4698-8227-7a82e3f63899",
   "metadata": {},
   "outputs": [],
   "source": [
    "def cost(theta, labels, lamb):\n",
    "    unpack(theta)\n",
    "    predictions = [prediction(d['user'], d['item']) for i,d in dataset.iterrows()]\n",
    "    cost = MSE(predictions, labels)\n",
    "    print(\"MSE = \" + str(cost))\n",
    "    for u in users:\n",
    "        cost += lamb*userBiases[u]**2\n",
    "        for k in range(K):\n",
    "            cost += lamb*userGamma[u][k]**2\n",
    "    for i in items:\n",
    "        cost += lamb*itemBiases[i]**2\n",
    "        for k in range(K):\n",
    "            cost += lamb*itemGamma[i][k]**2\n",
    "    return cost"
   ]
  },
  {
   "cell_type": "code",
   "execution_count": 218,
   "id": "20458c70-54a3-48c5-8c73-8c05305d29b8",
   "metadata": {},
   "outputs": [],
   "source": [
    "def derivative(theta, labels, lamb):\n",
    "    unpack(theta)\n",
    "    N = len(dataset)\n",
    "    dalpha = 0\n",
    "    dUserBiases = defaultdict(float)\n",
    "    dItemBiases = defaultdict(float)\n",
    "    dUserGamma = {}\n",
    "    dItemGamma = {}\n",
    "    for u in reviewsPerUser:\n",
    "        dUserGamma[u] = [0.0 for k in range(K)]\n",
    "    for i in reviewsPerItem:\n",
    "        dItemGamma[i] = [0.0 for k in range(K)]\n",
    "    for i,d in dataset.iterrows():\n",
    "        u,i = d['user'], d['item']\n",
    "        pred = prediction(u, i)\n",
    "        diff = pred - d['rating']\n",
    "        dalpha += 2/N*diff\n",
    "        dUserBiases[u] += 2/N*diff\n",
    "        dItemBiases[i] += 2/N*diff\n",
    "        for k in range(K):\n",
    "            dUserGamma[u][k] += 2/N*itemGamma[i][k]*diff\n",
    "            dItemGamma[i][k] += 2/N*userGamma[u][k]*diff\n",
    "    for u in userBiases:\n",
    "        dUserBiases[u] += 2*lamb*userBiases[u]\n",
    "        for k in range(K):\n",
    "            dUserGamma[u][k] += 2*lamb*userGamma[u][k]\n",
    "    for i in itemBiases:\n",
    "        dItemBiases[i] += 2*lamb*itemBiases[i]\n",
    "        for k in range(K):\n",
    "            dItemGamma[i][k] += 2*lamb*itemGamma[i][k]\n",
    "    dtheta = [dalpha] + [dUserBiases[u] for u in users] + [dItemBiases[i] for i in items]\n",
    "    for u in users:\n",
    "        dtheta += dUserGamma[u]\n",
    "    for i in items:\n",
    "        dtheta += dItemGamma[i]\n",
    "    return numpy.array(dtheta)"
   ]
  },
  {
   "cell_type": "code",
   "execution_count": 219,
   "id": "a96d5b6d-ed70-4e67-9c43-69f3d7eb76ae",
   "metadata": {},
   "outputs": [
    {
     "name": "stdout",
     "output_type": "stream",
     "text": [
      "MSE = 2.2419508202401017\n",
      "MSE = 2.219519726058573\n",
      "MSE = 2.139107699328173\n",
      "MSE = 62.882200144465976\n",
      "MSE = 2.1363735226294924\n",
      "MSE = 1.9591604220810357\n",
      "MSE = 1.935147936427749\n",
      "MSE = 1.8496979270715528\n",
      "MSE = 1.5259250208960227\n",
      "MSE = 1.3854002400314538\n",
      "MSE = 1.1890253015445091\n",
      "MSE = 1.0867165115795807\n",
      "MSE = 1.0231670969453386\n",
      "MSE = 0.9452989584815246\n",
      "MSE = 0.8761462329082713\n",
      "MSE = 0.836671070854695\n",
      "MSE = 0.7941845965183796\n",
      "MSE = 13.002218718601576\n",
      "MSE = 0.7941016980730479\n",
      "MSE = 0.7798570047611408\n",
      "MSE = 0.7676290915136273\n",
      "MSE = 0.7435050444680528\n",
      "MSE = 0.7211520486257665\n",
      "MSE = 0.6867237533167948\n",
      "MSE = 0.6786636866875376\n",
      "MSE = 0.6814754703363217\n",
      "MSE = 0.6668077476183875\n",
      "MSE = 0.6450861704505375\n",
      "MSE = 0.6368128598079392\n",
      "MSE = 0.6224700607978556\n",
      "MSE = 0.6210023663494477\n",
      "MSE = 0.6128007210297303\n",
      "MSE = 0.604265779344633\n",
      "MSE = 0.604484452365466\n",
      "MSE = 0.6035550107538353\n",
      "MSE = 0.602551743435006\n",
      "MSE = 0.592463331551036\n",
      "MSE = 0.5883592074806431\n",
      "MSE = 0.5856020823671253\n",
      "MSE = 0.584880394312809\n",
      "MSE = 0.5841118974378657\n",
      "MSE = 0.5827042386233083\n",
      "MSE = 0.5801201465905436\n",
      "MSE = 0.5756159774268735\n",
      "MSE = 4.795294498053715\n",
      "MSE = 0.5762379304942987\n",
      "MSE = 0.5729236763671893\n",
      "MSE = 0.5723572030208175\n",
      "MSE = 0.5732343809045789\n",
      "MSE = 0.5737224236181768\n",
      "MSE = 0.5716878071819886\n",
      "MSE = 0.5711869116224421\n",
      "MSE = 0.5633982752020523\n",
      "MSE = 0.5611598047088521\n",
      "MSE = 0.5629044210002607\n",
      "MSE = 0.5569069150298259\n",
      "MSE = 0.557284468586817\n",
      "MSE = 0.55601142715896\n",
      "MSE = 0.5565759043964988\n",
      "MSE = 0.5569208668871994\n",
      "MSE = 0.5543499662948813\n",
      "MSE = 0.5571737289664397\n",
      "MSE = 0.5586051379924981\n",
      "MSE = 0.5578684907043604\n",
      "MSE = 0.5595260487895485\n",
      "MSE = 0.5513965346667393\n",
      "MSE = 0.5484724666901142\n",
      "MSE = 0.547274470092992\n",
      "MSE = 0.5459491781327757\n",
      "MSE = 0.8009197307807265\n",
      "MSE = 0.546553047309776\n",
      "MSE = 0.54373574210244\n",
      "MSE = 0.5416939641711286\n",
      "MSE = 0.5394637960952081\n",
      "MSE = 0.5383603069242587\n",
      "MSE = 0.5373607218338485\n",
      "MSE = 0.5358783832896704\n",
      "MSE = 0.531101059535968\n",
      "MSE = 0.5273526942492539\n",
      "MSE = 1.9194284916371442\n",
      "MSE = 0.5230747812318102\n",
      "MSE = 0.520706832371592\n",
      "MSE = 0.5193381511341677\n",
      "MSE = 0.5190514336912259\n",
      "MSE = 0.9634089259787936\n",
      "MSE = 0.5180189185388548\n",
      "MSE = 0.5176054092282841\n",
      "MSE = 0.5524632100290261\n",
      "MSE = 0.5160383586940861\n",
      "MSE = 0.5170440088786353\n",
      "MSE = 0.5089828024699807\n",
      "MSE = 0.5005894001526471\n",
      "MSE = 0.49897019247635555\n",
      "MSE = 0.5203914117626015\n",
      "MSE = 0.5008298256141421\n",
      "MSE = 0.5004902858400706\n",
      "MSE = 0.50077124199525\n",
      "MSE = 0.5000065723590361\n",
      "MSE = 0.49896540790379673\n",
      "MSE = 0.5017779435270168\n",
      "MSE = 0.4878104680562088\n",
      "MSE = 0.48680273498005205\n",
      "MSE = 0.48545566287693753\n",
      "MSE = 0.48545561803108955\n",
      "MSE = 0.47882665189042084\n",
      "MSE = 0.4823587270319062\n",
      "MSE = 0.6334471624930812\n",
      "MSE = 0.4825363943127398\n",
      "MSE = 0.4796278977208276\n",
      "MSE = 0.4797831347143411\n",
      "MSE = 0.6442974678666041\n",
      "MSE = 0.47841996454061547\n",
      "MSE = 0.4780949244838867\n",
      "MSE = 0.47623339321906344\n",
      "MSE = 1.7241738514517444\n",
      "MSE = 0.47679306339243616\n",
      "MSE = 0.4757992108056129\n",
      "MSE = 0.47110092910259643\n",
      "MSE = 0.47352455862746945\n",
      "MSE = 0.47297678841875757\n"
     ]
    },
    {
     "data": {
      "text/plain": [
       "(array([ 3.60775563e+00,  6.34782359e-01,  7.74801621e-01, ...,\n",
       "        -5.12239342e-02, -2.87230518e-04,  1.43175827e-04]),\n",
       " 0.9078102161697278,\n",
       " {'grad': array([-8.27611233e-04,  2.87815293e-07, -1.55626572e-06, ...,\n",
       "          2.45248344e-07, -7.05043423e-09,  2.49129281e-09]),\n",
       "  'task': 'STOP: TOTAL NO. of ITERATIONS REACHED LIMIT',\n",
       "  'funcalls': 120,\n",
       "  'nit': 100,\n",
       "  'warnflag': 1})"
      ]
     },
     "execution_count": 219,
     "metadata": {},
     "output_type": "execute_result"
    }
   ],
   "source": [
    "scipy.optimize.fmin_l_bfgs_b(cost, [alpha] + # Initialize alpha\n",
    "                                   [0.0]*(nUsers+nItems) + # Initialize beta\n",
    "                                   [random.random() * 0.1 - 0.05 for k in range(K*(nUsers+nItems))], # Gamma\n",
    "                             derivative, args = (labels, 0.00001), maxiter=100)"
   ]
  },
  {
   "cell_type": "code",
   "execution_count": 224,
   "id": "9096bf71-9d73-40dc-8208-9c89f8deac4e",
   "metadata": {},
   "outputs": [],
   "source": [
    "def predictionLFM(user, item):\n",
    "    try:\n",
    "        if user not in userBiases and item in itemBiases:\n",
    "            return alpha + itemBiases[item]\n",
    "        if item not in itemBiases and user in userBiases:\n",
    "            return alpha + userBiases[user]\n",
    "        if item not in itemBiases and user not in userBiases:\n",
    "            return alpha\n",
    "        if user not in userGamma or item not in itemGamma or userGamma[user].any==0 or itemGamma[item].any==0:\n",
    "            return alpha + userBiases[user] + itemBiases[item]\n",
    "        return alpha + userBiases[user] + itemBiases[item] + inner(userGamma[user], itemGamma[item])\n",
    "    except:\n",
    "        import pdb;pdb.set_trace()"
   ]
  },
  {
   "cell_type": "code",
   "execution_count": 225,
   "id": "5c256a62-820b-494f-8685-e350c46d78e4",
   "metadata": {},
   "outputs": [],
   "source": [
    "testpred = [predictionLFM(d['user'], d['item']) for i,d in test_dataset.iterrows()]\n",
    "testlabels = [d['rating'] for i,d in test_dataset.iterrows()]"
   ]
  },
  {
   "cell_type": "code",
   "execution_count": 226,
   "id": "bd6d5c92-aeed-47c0-a126-5c5ed8814425",
   "metadata": {},
   "outputs": [],
   "source": [
    "testMSELFM = MSE(testpred, testlabels)"
   ]
  },
  {
   "cell_type": "code",
   "execution_count": 227,
   "id": "306a4ee5-ffff-44dd-a918-587973bfbea5",
   "metadata": {},
   "outputs": [
    {
     "data": {
      "text/plain": [
       "1.781005401382922"
      ]
     },
     "execution_count": 227,
     "metadata": {},
     "output_type": "execute_result"
    }
   ],
   "source": [
    "testMSELFM"
   ]
  },
  {
   "cell_type": "markdown",
   "id": "223c3c6d-f08c-4c9c-9787-9fc7275a44c6",
   "metadata": {},
   "source": [
    "lambda = 0.00001, MSELFM = 1.781005401382922;"
   ]
  },
  {
   "cell_type": "code",
   "execution_count": null,
   "id": "fde6f2e5-7391-4cd3-994a-37e363ae8d8e",
   "metadata": {},
   "outputs": [],
   "source": []
  }
 ],
 "metadata": {
  "kernelspec": {
   "display_name": "Python 3 (ipykernel)",
   "language": "python",
   "name": "python3"
  },
  "language_info": {
   "codemirror_mode": {
    "name": "ipython",
    "version": 3
   },
   "file_extension": ".py",
   "mimetype": "text/x-python",
   "name": "python",
   "nbconvert_exporter": "python",
   "pygments_lexer": "ipython3",
   "version": "3.9.12"
  }
 },
 "nbformat": 4,
 "nbformat_minor": 5
}
