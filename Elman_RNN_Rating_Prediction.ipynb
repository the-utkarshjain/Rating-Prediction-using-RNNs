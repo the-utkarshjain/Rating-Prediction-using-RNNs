{
  "nbformat": 4,
  "nbformat_minor": 0,
  "metadata": {
    "colab": {
      "provenance": []
    },
    "kernelspec": {
      "name": "python3",
      "display_name": "Python 3"
    },
    "language_info": {
      "name": "python"
    },
    "accelerator": "GPU",
    "gpuClass": "standard"
  },
  "cells": [
    {
      "cell_type": "code",
      "execution_count": null,
      "metadata": {
        "colab": {
          "base_uri": "https://localhost:8080/"
        },
        "id": "nzcbJqfPoHyd",
        "outputId": "8a53b61f-adbe-473e-ffb3-2485dd48fb08"
      },
      "outputs": [
        {
          "output_type": "stream",
          "name": "stdout",
          "text": [
            "cuda\n"
          ]
        }
      ],
      "source": [
        "import csv\n",
        "import pandas as pd\n",
        "import numpy as np\n",
        "\n",
        "import torch\n",
        "import torch.nn as nn\n",
        "from torch.nn import utils\n",
        "import torch.optim as optim\n",
        "import torch.nn.functional as F\n",
        "from torch.utils.data import Dataset\n",
        "from torchtext.data.utils import get_tokenizer\n",
        "from torch.utils.data import Dataset, DataLoader\n",
        "from torchtext.vocab import GloVe, vocab, build_vocab_from_iterator\n",
        "\n",
        "device = \"cuda\" if torch.cuda.is_available() else \"cpu\"\n",
        "print(device)"
      ]
    },
    {
      "cell_type": "code",
      "source": [
        "tokenizer = get_tokenizer(\"basic_english\")\n",
        "\n",
        "def yield_tokens(filereader):\n",
        "    for rows in filereader:\n",
        "      review = rows[5]\n",
        "      tokens = tokenizer(review)\n",
        "      yield tokens\n",
        "\n",
        "def build_vocab_from_dataset(dataset_path = '/content/drive/Shareddrives/CSE258/clean_data/train.csv', min_freq = 5):\n",
        "    csvfile = open(dataset_path, newline='')\n",
        "    filereader = csv.reader(csvfile, delimiter=',', quotechar='\"')\n",
        "    column_names = next(filereader)\n",
        "    \n",
        "    vocabulary = build_vocab_from_iterator(yield_tokens(filereader), min_freq = min_freq, specials=[\"<unk>\"])\n",
        "    vocabulary.set_default_index(vocabulary[\"<unk>\"])\n",
        "\n",
        "    return vocabulary\n",
        "\n",
        "vocabulary = build_vocab_from_dataset()"
      ],
      "metadata": {
        "id": "9W79SepboOet"
      },
      "execution_count": null,
      "outputs": []
    },
    {
      "cell_type": "code",
      "source": [
        "class reviewsDataset(Dataset):\n",
        "  def __init__(self, csv_file):\n",
        "    self.data = pd.read_csv(csv_file)\n",
        "  \n",
        "  def __len__(self):\n",
        "    return len(self.data)\n",
        "  \n",
        "  def __getitem__(self, idx):\n",
        "    review = self.data.iloc[idx]['review']\n",
        "    rating = self.data.iloc[idx]['rating']\n",
        "\n",
        "    return {'review': str(review), 'rating': rating}"
      ],
      "metadata": {
        "id": "mEB3QU_HoWdZ"
      },
      "execution_count": null,
      "outputs": []
    },
    {
      "cell_type": "code",
      "source": [
        "train_dataset_path = '/content/drive/Shareddrives/CSE258/clean_data/train.csv'\n",
        "\n",
        "def collate_fn(data):\n",
        "  reviews = []\n",
        "  ratings = []\n",
        "  length = []\n",
        "\n",
        "  for d in data:\n",
        "    review = d['review']\n",
        "    rating = d['rating']\n",
        "\n",
        "    tokens = vocabulary(tokenizer(review))\n",
        "    reviews.append(torch.tensor(tokens, dtype = torch.long, device = device))\n",
        "    length.append(len(tokens))\n",
        "    ratings.append(rating)\n",
        "  \n",
        "  ratings = torch.tensor(ratings, dtype = torch.float, device = device)\n",
        "  return reviews, ratings, length\n",
        "\n",
        "train_dataset = reviewsDataset(train_dataset_path)\n",
        "train_dataloader = DataLoader(train_dataset, batch_size = 64, collate_fn = collate_fn)"
      ],
      "metadata": {
        "id": "gqCLiXdsozyX"
      },
      "execution_count": null,
      "outputs": []
    },
    {
      "cell_type": "code",
      "source": [
        "class RNN(nn.Module):\n",
        "  def __init__(self, vocab_size, hidden_size):\n",
        "    super().__init__()\n",
        "    self.vocab_size = vocab_size\n",
        "    self.hidden_size = hidden_size\n",
        "\n",
        "    self.embedding = nn.Embedding(self.vocab_size, self.hidden_size)\n",
        "\n",
        "    self.lstm = nn.RNN(self.hidden_size, self.hidden_size, batch_first = True)\n",
        "    self.linear1 = nn.Linear(self.hidden_size, int(self.hidden_size/2))\n",
        "    self.linear2 = nn.Linear(int(self.hidden_size/2), 1)\n",
        "    self.relu = nn.ReLU()\n",
        "\n",
        "  def forward(self, input):\n",
        "    embeddings = []\n",
        "    for r in input:\n",
        "      embeddings.append(self.embedding(r))\n",
        "    packed_embeddings = utils.rnn.pack_sequence(embeddings, enforce_sorted = False)\n",
        "\n",
        "    output, h_n = self.lstm(packed_embeddings)\n",
        "    h_n_linear1 = self.relu(self.linear1(h_n))\n",
        "    h_n_linear2 = self.linear2(h_n_linear1)\n",
        "    h_n_linear2 = h_n_linear2.squeeze(0).squeeze(-1)\n",
        "\n",
        "    return h_n_linear2\n",
        "\n",
        "rnn = RNN(len(vocabulary), 256).to(device)"
      ],
      "metadata": {
        "id": "5-sy8w9Eo2bi"
      },
      "execution_count": null,
      "outputs": []
    },
    {
      "cell_type": "code",
      "source": [
        "valid_dataset_path = '/content/drive/Shareddrives/CSE258/clean_data/valid.csv'\n",
        "valid_dataset = reviewsDataset(valid_dataset_path)\n",
        "valid_dataloader = DataLoader(valid_dataset, batch_size = 64, collate_fn = collate_fn)\n",
        "\n",
        "test_dataset_path = '/content/drive/Shareddrives/CSE258/clean_data/test.csv'\n",
        "test_dataset = reviewsDataset(test_dataset_path)\n",
        "test_dataloader = DataLoader(test_dataset, batch_size = 64, collate_fn = collate_fn)"
      ],
      "metadata": {
        "id": "zgNN2RLRpPva"
      },
      "execution_count": null,
      "outputs": []
    },
    {
      "cell_type": "code",
      "source": [
        "def test_loss(model, criterion):\n",
        "  model.eval()\n",
        "  test_loss = 0\n",
        "  torch.cuda.empty_cache()\n",
        "  with torch.no_grad():\n",
        "    for i, (packed_sequence, ratings, _) in enumerate(test_dataloader):\n",
        "      prediction = model(packed_sequence)\n",
        "      test_loss += criterion(prediction, ratings)\n",
        "  return test_loss/len(test_dataset)\n",
        "\n",
        "def validation_loss(model, criterion):\n",
        "  model.eval()\n",
        "  valid_loss = 0\n",
        "\n",
        "  for i, (packed_sequence, ratings, _) in enumerate(valid_dataloader):\n",
        "    prediction = model(packed_sequence)\n",
        "    valid_loss += criterion(prediction, ratings)\n",
        "\n",
        "  return valid_loss/len(valid_dataset)\n",
        "\n",
        "def train(input, target, model, optimizer, criterion):\n",
        "  prediction = model(input)\n",
        "  loss = criterion(prediction, target)\n",
        "\n",
        "  optimizer.zero_grad()\n",
        "  loss.backward()\n",
        "  optimizer.step()\n",
        "\n",
        "  return loss/target.shape[0]\n",
        "\n",
        "def train_iter(model, epochs, print_every = int(len(train_dataloader)/10), lr = 0.001):\n",
        "  optimizer = optim.Adam(model.parameters(), lr = lr)\n",
        "  criterion = nn.MSELoss(reduction = 'sum')\n",
        "\n",
        "  for epoch in range(epochs):\n",
        "    model.train()\n",
        "    loss_per_epoch = 0\n",
        "    loss_per_print = 0\n",
        "\n",
        "    for i, (packed_sequence, ratings, _) in enumerate(train_dataloader):\n",
        "      loss = train(packed_sequence, ratings, model, optimizer, criterion)\n",
        "      loss_per_epoch += loss\n",
        "      loss_per_print += loss\n",
        "\n",
        "      if (i+1)%print_every == 0:\n",
        "        print(f\"Epoch : {epoch+1}/{epochs}, i: {i+1}/{len(train_dataloader)}, Training Loss: {loss_per_print/(print_every)}\")\n",
        "        loss_per_print = 0\n",
        "    \n",
        "    print(\"==============================\")\n",
        "    print(f\"Epoch {epoch+1} Summary\")\n",
        "    print(f\"Training Loss: {loss_per_epoch/len(train_dataloader)}\")\n",
        "    valid_loss = validation_loss(model, criterion)\n",
        "    print(f\"Validation Loss: {valid_loss}\")\n",
        "    testing_loss = test_loss(model, criterion)\n",
        "    print(f\"Validation Loss: {testing_loss}\")\n",
        "    print(\"==============================\")\n",
        "\n",
        "train_iter(rnn, 10)"
      ],
      "metadata": {
        "colab": {
          "base_uri": "https://localhost:8080/",
          "height": 358
        },
        "id": "X8UuIEtKpRSm",
        "outputId": "adc04114-59d1-46b2-d95d-f8068959cc91"
      },
      "execution_count": null,
      "outputs": [
        {
          "output_type": "stream",
          "name": "stdout",
          "text": [
            "Epoch : 1/10, i: 244/2446, Training Loss: 2.836580276489258\n"
          ]
        },
        {
          "output_type": "error",
          "ename": "KeyboardInterrupt",
          "evalue": "ignored",
          "traceback": [
            "\u001b[0;31m---------------------------------------------------------------------------\u001b[0m",
            "\u001b[0;31mKeyboardInterrupt\u001b[0m                         Traceback (most recent call last)",
            "\u001b[0;32m<ipython-input-14-6d763493e8c9>\u001b[0m in \u001b[0;36m<module>\u001b[0;34m\u001b[0m\n\u001b[1;32m     56\u001b[0m     \u001b[0mprint\u001b[0m\u001b[0;34m(\u001b[0m\u001b[0;34m\"==============================\"\u001b[0m\u001b[0;34m)\u001b[0m\u001b[0;34m\u001b[0m\u001b[0;34m\u001b[0m\u001b[0m\n\u001b[1;32m     57\u001b[0m \u001b[0;34m\u001b[0m\u001b[0m\n\u001b[0;32m---> 58\u001b[0;31m \u001b[0mtrain_iter\u001b[0m\u001b[0;34m(\u001b[0m\u001b[0mrnn\u001b[0m\u001b[0;34m,\u001b[0m \u001b[0;36m10\u001b[0m\u001b[0;34m)\u001b[0m\u001b[0;34m\u001b[0m\u001b[0;34m\u001b[0m\u001b[0m\n\u001b[0m",
            "\u001b[0;32m<ipython-input-14-6d763493e8c9>\u001b[0m in \u001b[0;36mtrain_iter\u001b[0;34m(model, epochs, print_every, lr)\u001b[0m\n\u001b[1;32m     39\u001b[0m \u001b[0;34m\u001b[0m\u001b[0m\n\u001b[1;32m     40\u001b[0m     \u001b[0;32mfor\u001b[0m \u001b[0mi\u001b[0m\u001b[0;34m,\u001b[0m \u001b[0;34m(\u001b[0m\u001b[0mpacked_sequence\u001b[0m\u001b[0;34m,\u001b[0m \u001b[0mratings\u001b[0m\u001b[0;34m,\u001b[0m \u001b[0m_\u001b[0m\u001b[0;34m)\u001b[0m \u001b[0;32min\u001b[0m \u001b[0menumerate\u001b[0m\u001b[0;34m(\u001b[0m\u001b[0mtrain_dataloader\u001b[0m\u001b[0;34m)\u001b[0m\u001b[0;34m:\u001b[0m\u001b[0;34m\u001b[0m\u001b[0;34m\u001b[0m\u001b[0m\n\u001b[0;32m---> 41\u001b[0;31m       \u001b[0mloss\u001b[0m \u001b[0;34m=\u001b[0m \u001b[0mtrain\u001b[0m\u001b[0;34m(\u001b[0m\u001b[0mpacked_sequence\u001b[0m\u001b[0;34m,\u001b[0m \u001b[0mratings\u001b[0m\u001b[0;34m,\u001b[0m \u001b[0mmodel\u001b[0m\u001b[0;34m,\u001b[0m \u001b[0moptimizer\u001b[0m\u001b[0;34m,\u001b[0m \u001b[0mcriterion\u001b[0m\u001b[0;34m)\u001b[0m\u001b[0;34m\u001b[0m\u001b[0;34m\u001b[0m\u001b[0m\n\u001b[0m\u001b[1;32m     42\u001b[0m       \u001b[0mloss_per_epoch\u001b[0m \u001b[0;34m+=\u001b[0m \u001b[0mloss\u001b[0m\u001b[0;34m\u001b[0m\u001b[0;34m\u001b[0m\u001b[0m\n\u001b[1;32m     43\u001b[0m       \u001b[0mloss_per_print\u001b[0m \u001b[0;34m+=\u001b[0m \u001b[0mloss\u001b[0m\u001b[0;34m\u001b[0m\u001b[0;34m\u001b[0m\u001b[0m\n",
            "\u001b[0;32m<ipython-input-14-6d763493e8c9>\u001b[0m in \u001b[0;36mtrain\u001b[0;34m(input, target, model, optimizer, criterion)\u001b[0m\n\u001b[1;32m     24\u001b[0m \u001b[0;34m\u001b[0m\u001b[0m\n\u001b[1;32m     25\u001b[0m   \u001b[0moptimizer\u001b[0m\u001b[0;34m.\u001b[0m\u001b[0mzero_grad\u001b[0m\u001b[0;34m(\u001b[0m\u001b[0;34m)\u001b[0m\u001b[0;34m\u001b[0m\u001b[0;34m\u001b[0m\u001b[0m\n\u001b[0;32m---> 26\u001b[0;31m   \u001b[0mloss\u001b[0m\u001b[0;34m.\u001b[0m\u001b[0mbackward\u001b[0m\u001b[0;34m(\u001b[0m\u001b[0;34m)\u001b[0m\u001b[0;34m\u001b[0m\u001b[0;34m\u001b[0m\u001b[0m\n\u001b[0m\u001b[1;32m     27\u001b[0m   \u001b[0moptimizer\u001b[0m\u001b[0;34m.\u001b[0m\u001b[0mstep\u001b[0m\u001b[0;34m(\u001b[0m\u001b[0;34m)\u001b[0m\u001b[0;34m\u001b[0m\u001b[0;34m\u001b[0m\u001b[0m\n\u001b[1;32m     28\u001b[0m \u001b[0;34m\u001b[0m\u001b[0m\n",
            "\u001b[0;32m/usr/local/lib/python3.7/dist-packages/torch/_tensor.py\u001b[0m in \u001b[0;36mbackward\u001b[0;34m(self, gradient, retain_graph, create_graph, inputs)\u001b[0m\n\u001b[1;32m    394\u001b[0m                 \u001b[0mcreate_graph\u001b[0m\u001b[0;34m=\u001b[0m\u001b[0mcreate_graph\u001b[0m\u001b[0;34m,\u001b[0m\u001b[0;34m\u001b[0m\u001b[0;34m\u001b[0m\u001b[0m\n\u001b[1;32m    395\u001b[0m                 inputs=inputs)\n\u001b[0;32m--> 396\u001b[0;31m         \u001b[0mtorch\u001b[0m\u001b[0;34m.\u001b[0m\u001b[0mautograd\u001b[0m\u001b[0;34m.\u001b[0m\u001b[0mbackward\u001b[0m\u001b[0;34m(\u001b[0m\u001b[0mself\u001b[0m\u001b[0;34m,\u001b[0m \u001b[0mgradient\u001b[0m\u001b[0;34m,\u001b[0m \u001b[0mretain_graph\u001b[0m\u001b[0;34m,\u001b[0m \u001b[0mcreate_graph\u001b[0m\u001b[0;34m,\u001b[0m \u001b[0minputs\u001b[0m\u001b[0;34m=\u001b[0m\u001b[0minputs\u001b[0m\u001b[0;34m)\u001b[0m\u001b[0;34m\u001b[0m\u001b[0;34m\u001b[0m\u001b[0m\n\u001b[0m\u001b[1;32m    397\u001b[0m \u001b[0;34m\u001b[0m\u001b[0m\n\u001b[1;32m    398\u001b[0m     \u001b[0;32mdef\u001b[0m \u001b[0mregister_hook\u001b[0m\u001b[0;34m(\u001b[0m\u001b[0mself\u001b[0m\u001b[0;34m,\u001b[0m \u001b[0mhook\u001b[0m\u001b[0;34m)\u001b[0m\u001b[0;34m:\u001b[0m\u001b[0;34m\u001b[0m\u001b[0;34m\u001b[0m\u001b[0m\n",
            "\u001b[0;32m/usr/local/lib/python3.7/dist-packages/torch/autograd/__init__.py\u001b[0m in \u001b[0;36mbackward\u001b[0;34m(tensors, grad_tensors, retain_graph, create_graph, grad_variables, inputs)\u001b[0m\n\u001b[1;32m    173\u001b[0m     Variable._execution_engine.run_backward(  # Calls into the C++ engine to run the backward pass\n\u001b[1;32m    174\u001b[0m         \u001b[0mtensors\u001b[0m\u001b[0;34m,\u001b[0m \u001b[0mgrad_tensors_\u001b[0m\u001b[0;34m,\u001b[0m \u001b[0mretain_graph\u001b[0m\u001b[0;34m,\u001b[0m \u001b[0mcreate_graph\u001b[0m\u001b[0;34m,\u001b[0m \u001b[0minputs\u001b[0m\u001b[0;34m,\u001b[0m\u001b[0;34m\u001b[0m\u001b[0;34m\u001b[0m\u001b[0m\n\u001b[0;32m--> 175\u001b[0;31m         allow_unreachable=True, accumulate_grad=True)  # Calls into the C++ engine to run the backward pass\n\u001b[0m\u001b[1;32m    176\u001b[0m \u001b[0;34m\u001b[0m\u001b[0m\n\u001b[1;32m    177\u001b[0m def grad(\n",
            "\u001b[0;31mKeyboardInterrupt\u001b[0m: "
          ]
        }
      ]
    },
    {
      "cell_type": "code",
      "source": [],
      "metadata": {
        "id": "bbGKhREg2Nhk"
      },
      "execution_count": null,
      "outputs": []
    }
  ]
}